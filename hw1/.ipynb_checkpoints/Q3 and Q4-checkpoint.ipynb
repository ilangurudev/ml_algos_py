{
 "cells": [
  {
   "cell_type": "code",
   "execution_count": 1,
   "metadata": {},
   "outputs": [],
   "source": [
    "import pandas as pd\n",
    "import numpy as np\n",
    "import scipy\n",
    "from sklearn.neighbors import KNeighborsClassifier\n",
    "from sklearn import model_selection,preprocessing, pipeline, feature_selection\n",
    "\n",
    "import seaborn as sns\n",
    "\n",
    "from typing import Union\n",
    "import collections\n",
    "import math\n",
    "import itertools\n",
    "\n",
    "import warnings\n",
    "warnings.filterwarnings('ignore')"
   ]
  },
  {
   "cell_type": "markdown",
   "metadata": {},
   "source": [
    "# Pipeline for standardizing, KNN, CV with grid search and evaluation\n",
    "\n",
    "## Standardizer with mean and sd scaling (normalization) and min max scaling"
   ]
  },
  {
   "cell_type": "code",
   "execution_count": 2,
   "metadata": {},
   "outputs": [],
   "source": [
    "class Standardize():\n",
    "\n",
    "    def __init__(self, X, cat=None):\n",
    "        self.X = X\n",
    "        self.cat = cat\n",
    "        if cat is not None:\n",
    "            self.cat_indices = [list(X.columns).index(c) for c in cat]\n",
    "        else:\n",
    "            self.cat_indices = None\n",
    "\n",
    "    @property\n",
    "    def normalize_mappings(self):\n",
    "        mu = self.X.mean()\n",
    "        sd = self.X.std()\n",
    "        if self.cat is not None:\n",
    "            mu[self.cat_indices] = 0\n",
    "            sd[self.cat_indices] = 1\n",
    "        return {'mu': mu, 'sd': sd}\n",
    "\n",
    "    @property\n",
    "    def min_max_mappings(self):\n",
    "        mins = self.X.min()\n",
    "        maxs = self.X.max()\n",
    "        if self.cat is not None:\n",
    "            mins[self.cat_indices] = 0\n",
    "            maxs[self.cat_indices] = 1\n",
    "        return {'mins': mins, 'maxs': maxs}\n",
    "\n",
    "    def standardize(self, method=\"normalize\", X=None):\n",
    "        if X is None:\n",
    "            X = self.X\n",
    "        if method == \"normalize\":\n",
    "            X = (X - self.normalize_mappings['mu']\n",
    "                 )/self.normalize_mappings['sd']\n",
    "        elif method == \"min_max\":\n",
    "            X = ((X - self.min_max_mappings['mins'])\n",
    "                 / (self.min_max_mappings['maxs'] - self.min_max_mappings['mins']))\n",
    "        return X"
   ]
  },
  {
   "cell_type": "markdown",
   "metadata": {},
   "source": [
    "## Classification metrics"
   ]
  },
  {
   "cell_type": "code",
   "execution_count": 3,
   "metadata": {},
   "outputs": [],
   "source": [
    "class Binary_Classification_Metrics():\n",
    "\n",
    "    def __init__(self, true_y, pred_y, type_=\"response\"):\n",
    "        self.true_y = np.array(true_y)\n",
    "        self.type_ = type_\n",
    "        if type_ == \"prob\":\n",
    "            self.prob_y = pred_y\n",
    "            self.pred_y = (pred_y >= 0.5)*1\n",
    "        else:\n",
    "            self.pred_y = pred_y\n",
    "\n",
    "    @property\n",
    "    def accuracy(self):\n",
    "        return (self.true_y == self.pred_y).mean()\n",
    "\n",
    "    @property\n",
    "    def recall(self):\n",
    "        return (self.true_y * self.pred_y).sum()/self.true_y.sum()\n",
    "\n",
    "    @property\n",
    "    def precision(self):\n",
    "        pred_sum = self.pred_y.sum()\n",
    "        if pred_sum == 0:\n",
    "            return float('nan')\n",
    "        else:\n",
    "            return (self.true_y * self.pred_y).sum()/pred_sum\n",
    "\n",
    "    @property\n",
    "    def f1(self):\n",
    "        return (2 * self.precision * self.recall)/(self.precision + self.recall)\n",
    "\n",
    "    @property\n",
    "    def classification_metrics(self):\n",
    "        return {\"accuracy\": self.accuracy,\n",
    "                \"recall\": self.recall,\n",
    "                \"precision\": self.precision,\n",
    "                \"f1\": self.f1}"
   ]
  },
  {
   "cell_type": "markdown",
   "metadata": {},
   "source": [
    "## KNN model"
   ]
  },
  {
   "cell_type": "code",
   "execution_count": 4,
   "metadata": {},
   "outputs": [],
   "source": [
    "class Knn():\n",
    "    \"\"\"A knn classifier \"\"\"\n",
    "\n",
    "    def __init__(self, k: int = 3,\n",
    "                 norm=2.0,\n",
    "                 cat_hamming=False,\n",
    "                 standardization=\"normalize\",\n",
    "                 cat_vars=None):\n",
    "\n",
    "        if 'int' in str(type(k)) and k > 0:\n",
    "            self.k = k\n",
    "        else:\n",
    "            print(\"Inappropriate k value. Setting k value to 1\")\n",
    "            self.k = 1\n",
    "        self.norm = norm\n",
    "        self.cat_hamming = cat_hamming\n",
    "        self.standardization = standardization\n",
    "        self.cat_vars = cat_vars\n",
    "\n",
    "    def fit(self, tr_X: pd.DataFrame, tr_y: Union[pd.DataFrame, np.array]):\n",
    "        \"\"\"Pass training data as X and y \"\"\"\n",
    "        self.standardizer = Standardize(X=tr_X, cat=self.cat_vars)\n",
    "        self.tr_X = self.standardizer.standardize(method=self.standardization)\n",
    "        self.tr_y = tr_y\n",
    "\n",
    "    def predict(self, ts_X):\n",
    "        ts_X = self.standardizer.standardize(\n",
    "            method=self.standardization, X=ts_X)\n",
    "        d = self._dist_matrix(ts_X)\n",
    "        neighbours = self._get_nearest_neighbour_indices(d)\n",
    "        counts = self._count_votes(neighbours)\n",
    "        return self._tag_winner(counts)\n",
    "\n",
    "    def _dist_matrix(self, ts_X):\n",
    "        if self.cat_hamming:\n",
    "            dists = ts_X.apply(lambda row: self._calc_dist(row), axis=1)\n",
    "        else:\n",
    "            dists = scipy.spatial.distance_matrix(ts_X, self.tr_X, p=self.norm)\n",
    "        dists = np.vstack(dists)\n",
    "        return dists\n",
    "\n",
    "    def _calc_dist(self, vec):\n",
    "        rows = self.tr_X.shape[0]\n",
    "        dists = np.zeros(rows)\n",
    "        for i in range(rows):\n",
    "            tr_row = self.tr_X.iloc[i]\n",
    "            dist = 0\n",
    "            for j in range(len(tr_row)):\n",
    "                if isinstance(tr_row[j].dtype, int) and self.cat_hamming:\n",
    "                    dist += (tr_row[j] == vec[j])*1\n",
    "                else:\n",
    "                    dist += (abs(tr_row[j] - vec[j])**self.norm)\n",
    "            dists[i] = dist ** (1/self.norm)\n",
    "        return dists\n",
    "\n",
    "    def _get_nearest_neighbour_indices(self, dist_matrix):\n",
    "        return np.argpartition(dist_matrix, kth=self.k, axis=1)[:, :self.k]\n",
    "\n",
    "    def _count_votes(self, indice_matrix):\n",
    "        return np.apply_along_axis(lambda x: collections.Counter(self.tr_y.iloc[x]), 1, indice_matrix)\n",
    "\n",
    "    def _tag_winner(self, vote_mat):\n",
    "        count_max = np.vectorize(lambda x: x.most_common(1)[0][0])\n",
    "        return count_max(vote_mat)\n",
    "\n",
    "    def evaluate_model(self, ts_X, ts_y):\n",
    "        e = Binary_Classification_Metrics(ts_y, self.predict(ts_X))\n",
    "        return e.classification_metrics\n",
    "\n",
    "    def __repr__(self):\n",
    "        return (f'Knn(k={self.k}, norm={self.norm}, cat_hamming={self.cat_hamming},'\n",
    "                + f' standardization=\"{self.standardization}\", cat_vars={self.cat_vars})')"
   ]
  },
  {
   "cell_type": "markdown",
   "metadata": {},
   "source": [
    "## Cross Validation"
   ]
  },
  {
   "cell_type": "code",
   "execution_count": 5,
   "metadata": {},
   "outputs": [],
   "source": [
    "class Cross_Validation():\n",
    "    \n",
    "    def __init__(self, folds=10, random_state=1):\n",
    "        self.folds = folds\n",
    "        self.fold_indices_created = False\n",
    "        self.random_state = random_state\n",
    "    \n",
    "    def create_fold_indices(self):\n",
    "        np.random.seed(self.random_state)\n",
    "        self.len = self.y.size\n",
    "        self.fold_sizes = [int(self.len/self.folds) for i in range(self.folds)]\n",
    "        self.fold_sizes[self.folds - 1] = self.len - (self.folds - 1) * self.fold_sizes[0]\n",
    "        self.indices = np.arange(self.y.size)\n",
    "        indices_tmp = np.arange(self.y.size)\n",
    "        fold_indices = []\n",
    "        for i in range(self.folds):\n",
    "            f_i = np.random.choice(indices_tmp, self.fold_sizes[i], replace=False)\n",
    "            fold_indices.append(f_i)\n",
    "            indices_tmp = indices_tmp[~np.isin(indices_tmp, f_i)]\n",
    "        self.fold_indices = fold_indices\n",
    "        self.fold_indices_created = True\n",
    "    \n",
    "    def evaluate_cv(self, X, y, model):\n",
    "        self.X = X\n",
    "        self.y = y\n",
    "        model_performace = []\n",
    "        if not self.fold_indices_created:\n",
    "            self.create_fold_indices()\n",
    "        for i,f_i in enumerate(self.fold_indices):\n",
    "#             print(\"Fold \"+str(i+1)+\"...\")\n",
    "            X_i = X.loc[~np.isin(np.arange(self.len), f_i)]\n",
    "            y_i = y.loc[~np.isin(np.arange(self.len), f_i)]\n",
    "            X_i_t = X.loc[np.isin(np.arange(self.len), f_i)]\n",
    "            y_i_t = y.loc[np.isin(np.arange(self.len), f_i)]\n",
    "            model.fit(X_i, y_i)\n",
    "            model_performace.append(model.evaluate_model(X_i_t, y_i_t))\n",
    "        self.model_performace = model_performace\n",
    "        self._summarise_performace()\n",
    "        print(self.summarised_metrics)\n",
    "        return (self.model_performace, self.summarised_metrics)\n",
    "    \n",
    "    def _summarise_performace(self):\n",
    "        summarised_metrics = {}\n",
    "        for k in self.model_performace[0].keys():\n",
    "            p = 0\n",
    "            for fold in range(self.folds):\n",
    "                p += self.model_performace[fold][k]\n",
    "            summarised_metrics[k] = p/self.folds\n",
    "        self.summarised_metrics = summarised_metrics\n",
    "        \n",
    "    def cv_grid_search(self, X, y, param_dict_list, model_type):\n",
    "        order = param_dict_list.keys()\n",
    "        df_grid_search = pd.DataFrame(list(itertools.product(*[param_dict_list[k] for k in order])), \n",
    "                                      columns=order)\n",
    "        param_list = [dict(df_grid_search.iloc[i]) for i in range(df_grid_search.shape[0])]\n",
    "        grid_res = {}\n",
    "        grid_search_fold_results = {}\n",
    "        for param_set in param_list:\n",
    "            model = model_type(**param_set)\n",
    "            print(model)\n",
    "            eval_res = self.evaluate_cv(X, y, model)\n",
    "            grid_res[model] = eval_res[1] #.__repr__()\n",
    "            grid_search_fold_results[model.__repr__()] = eval_res[0]\n",
    "        self.grid_search_results = grid_res\n",
    "        self.grid_search_fold_results = grid_search_fold_results\n",
    "        return self.grid_search_results\n",
    "    \n",
    "    def get_cv_grid_best_model(self, X, y, param_dict_list, model_type, metric_to_opt=\"accuracy\", maximize=True):\n",
    "        self.cv_grid_search(X, y, param_dict_list, model_type)\n",
    "        z = zip([v[metric_to_opt] for k,v in self.grid_search_results.items()], \n",
    "                self.grid_search_results.keys())\n",
    "        if maximize:\n",
    "            metric = -float('Inf')\n",
    "            param = None\n",
    "            for v,k in z:\n",
    "                if v > metric:\n",
    "                    metric = v\n",
    "                    param = k\n",
    "        else:\n",
    "            metric = float('Inf')\n",
    "            param = None\n",
    "            for v,k in z:\n",
    "                if v < metric:\n",
    "                    metric = v\n",
    "                    param = k\n",
    "        result = collections.namedtuple(\"best_model_performance\", [\"model\", metric_to_opt, \"all_metrics\"])\n",
    "        self.best_model = result(param, metric, self.grid_search_results[param])\n",
    "        return self.best_model\n",
    "            \n",
    "            "
   ]
  },
  {
   "cell_type": "code",
   "execution_count": 6,
   "metadata": {},
   "outputs": [],
   "source": [
    "df_train_org = pd.read_csv(\"data/train.csv\")\n",
    "df_test_org = pd.read_csv(\"data/test.csv\")"
   ]
  },
  {
   "cell_type": "code",
   "execution_count": 7,
   "metadata": {},
   "outputs": [],
   "source": [
    "tr_X = df_train_org.loc[:, df_train_org.columns != 'area']\n",
    "ts_X = df_test_org.loc[:, tr_X.columns]\n",
    "tr_y = (df_train_org['area'] > 0)*1\n",
    "ts_y = (df_test_org['area'] > 0)*1"
   ]
  },
  {
   "cell_type": "markdown",
   "metadata": {},
   "source": [
    "Getting the best knn model based on a cross validated exhaustive grid search. (also has euclidean distance and different values of K on normalized data. (Also has the results for 3.iv)"
   ]
  },
  {
   "cell_type": "code",
   "execution_count": 8,
   "metadata": {},
   "outputs": [
    {
     "name": "stdout",
     "output_type": "stream",
     "text": [
      "Knn(k=1, norm=1, cat_hamming=False, standardization=\"normalize\", cat_vars=None)\n",
      "{'accuracy': 0.5652173913043479, 'recall': 0.5844767731764102, 'precision': 0.5841059869665568, 'f1': 0.5759027261051923}\n",
      "Knn(k=1, norm=1, cat_hamming=False, standardization=\"min_max\", cat_vars=None)\n",
      "{'accuracy': 0.5533444816053511, 'recall': 0.5747886513567095, 'precision': 0.5729330991070122, 'f1': 0.5667438661680604}\n",
      "Knn(k=1, norm=2, cat_hamming=False, standardization=\"normalize\", cat_vars=None)\n",
      "{'accuracy': 0.5258361204013378, 'recall': 0.5612009359867799, 'precision': 0.548904255546132, 'f1': 0.545557952723678}\n",
      "Knn(k=1, norm=2, cat_hamming=False, standardization=\"min_max\", cat_vars=None)\n",
      "{'accuracy': 0.5443979933110368, 'recall': 0.5830442865261377, 'precision': 0.5658526658526658, 'f1': 0.5643356287264534}\n",
      "Knn(k=1, norm=3, cat_hamming=False, standardization=\"normalize\", cat_vars=None)\n",
      "{'accuracy': 0.5282608695652173, 'recall': 0.5759428626424997, 'precision': 0.5508302127102727, 'f1': 0.5535944977604194}\n",
      "Knn(k=1, norm=3, cat_hamming=False, standardization=\"min_max\", cat_vars=None)\n",
      "{'accuracy': 0.5446488294314381, 'recall': 0.5725582189538633, 'precision': 0.5696013824884792, 'f1': 0.5608083172156373}\n",
      "Knn(k=3, norm=1, cat_hamming=False, standardization=\"normalize\", cat_vars=None)\n",
      "{'accuracy': 0.5372073578595317, 'recall': 0.5668837493420071, 'precision': 0.5583180708180708, 'f1': 0.5539680317831728}\n",
      "Knn(k=3, norm=1, cat_hamming=False, standardization=\"min_max\", cat_vars=None)\n",
      "{'accuracy': 0.5388795986622072, 'recall': 0.5593829099918028, 'precision': 0.5569837334080212, 'f1': 0.5519104780123432}\n",
      "Knn(k=3, norm=2, cat_hamming=False, standardization=\"normalize\", cat_vars=None)\n",
      "{'accuracy': 0.5079431438127091, 'recall': 0.5698628598664898, 'precision': 0.5314259998427914, 'f1': 0.5397187053891213}\n",
      "Knn(k=3, norm=2, cat_hamming=False, standardization=\"min_max\", cat_vars=None)\n",
      "{'accuracy': 0.5492474916387959, 'recall': 0.578607846680442, 'precision': 0.5648631436789331, 'f1': 0.5621904905869535}\n",
      "Knn(k=3, norm=3, cat_hamming=False, standardization=\"normalize\", cat_vars=None)\n",
      "{'accuracy': 0.5415551839464883, 'recall': 0.6050388562838654, 'precision': 0.5606596577125003, 'f1': 0.5715907059392809}\n",
      "Knn(k=3, norm=3, cat_hamming=False, standardization=\"min_max\", cat_vars=None)\n",
      "{'accuracy': 0.566638795986622, 'recall': 0.6165335661515334, 'precision': 0.5817113665389526, 'f1': 0.5856276270613839}\n",
      "Knn(k=5, norm=1, cat_hamming=False, standardization=\"normalize\", cat_vars=None)\n",
      "{'accuracy': 0.541304347826087, 'recall': 0.5636942526116755, 'precision': 0.5671651740072792, 'f1': 0.5527778939840695}\n",
      "Knn(k=5, norm=1, cat_hamming=False, standardization=\"min_max\", cat_vars=None)\n",
      "{'accuracy': 0.5584448160535117, 'recall': 0.6019621532933692, 'precision': 0.5701566951566951, 'f1': 0.5782671815187624}\n",
      "Knn(k=5, norm=2, cat_hamming=False, standardization=\"normalize\", cat_vars=None)\n",
      "{'accuracy': 0.4964046822742475, 'recall': 0.5635297504471733, 'precision': 0.5199872713028151, 'f1': 0.5316425519088825}\n",
      "Knn(k=5, norm=2, cat_hamming=False, standardization=\"min_max\", cat_vars=None)\n",
      "{'accuracy': 0.5543478260869565, 'recall': 0.6124006699088369, 'precision': 0.5649840763880035, 'f1': 0.5807925667041298}\n",
      "Knn(k=5, norm=3, cat_hamming=False, standardization=\"normalize\", cat_vars=None)\n",
      "{'accuracy': 0.5355351170568563, 'recall': 0.5911032597166899, 'precision': 0.5547141565951634, 'f1': 0.5611504728569838}\n",
      "Knn(k=5, norm=3, cat_hamming=False, standardization=\"min_max\", cat_vars=None)\n",
      "{'accuracy': 0.5521739130434783, 'recall': 0.6047432649020672, 'precision': 0.5629792960662525, 'f1': 0.574798570458201}\n",
      "Knn(k=7, norm=1, cat_hamming=False, standardization=\"normalize\", cat_vars=None)\n",
      "{'accuracy': 0.5287625418060201, 'recall': 0.6053724632898861, 'precision': 0.5503663857962621, 'f1': 0.563182930507499}\n",
      "Knn(k=7, norm=1, cat_hamming=False, standardization=\"min_max\", cat_vars=None)\n",
      "{'accuracy': 0.5516722408026756, 'recall': 0.6269225205123572, 'precision': 0.5612850872194587, 'f1': 0.5831353299813019}\n",
      "Knn(k=7, norm=2, cat_hamming=False, standardization=\"normalize\", cat_vars=None)\n",
      "{'accuracy': 0.5231605351170568, 'recall': 0.6122740314736685, 'precision': 0.5511358068119061, 'f1': 0.5649705124545591}\n",
      "Knn(k=7, norm=2, cat_hamming=False, standardization=\"min_max\", cat_vars=None)\n",
      "{'accuracy': 0.5454013377926421, 'recall': 0.5987631028983117, 'precision': 0.5667545646368735, 'f1': 0.5698321864168545}\n",
      "Knn(k=7, norm=3, cat_hamming=False, standardization=\"normalize\", cat_vars=None)\n",
      "{'accuracy': 0.5540969899665551, 'recall': 0.6360131061719084, 'precision': 0.5780644194515162, 'f1': 0.5907299008195255}\n",
      "Knn(k=7, norm=3, cat_hamming=False, standardization=\"min_max\", cat_vars=None)\n",
      "{'accuracy': 0.5611204013377926, 'recall': 0.637094411839421, 'precision': 0.576318463943464, 'f1': 0.5938041168456232}\n",
      "Knn(k=9, norm=1, cat_hamming=False, standardization=\"normalize\", cat_vars=None)\n",
      "{'accuracy': 0.5331103678929765, 'recall': 0.6336678150444031, 'precision': 0.5517223805679577, 'f1': 0.5782355140994518}\n",
      "Knn(k=9, norm=1, cat_hamming=False, standardization=\"min_max\", cat_vars=None)\n",
      "{'accuracy': 0.5372073578595318, 'recall': 0.6321987714846153, 'precision': 0.5550627839854403, 'f1': 0.5818652259752766}\n",
      "Knn(k=9, norm=2, cat_hamming=False, standardization=\"normalize\", cat_vars=None)\n",
      "{'accuracy': 0.5377090301003344, 'recall': 0.6318979397291559, 'precision': 0.5614783152825422, 'f1': 0.5781293342191735}\n",
      "Knn(k=9, norm=2, cat_hamming=False, standardization=\"min_max\", cat_vars=None)\n",
      "{'accuracy': 0.5565217391304348, 'recall': 0.6369112567206942, 'precision': 0.5677771395271394, 'f1': 0.5908362507058159}\n",
      "Knn(k=9, norm=3, cat_hamming=False, standardization=\"normalize\", cat_vars=None)\n",
      "{'accuracy': 0.557943143812709, 'recall': 0.648109031722462, 'precision': 0.5831430374908636, 'f1': 0.5972248282299867}\n",
      "Knn(k=9, norm=3, cat_hamming=False, standardization=\"min_max\", cat_vars=None)\n",
      "{'accuracy': 0.5545986622073578, 'recall': 0.6149945370217603, 'precision': 0.571785768228966, 'f1': 0.5826392333423918}\n",
      "Knn(k=11, norm=1, cat_hamming=False, standardization=\"normalize\", cat_vars=None)\n",
      "{'accuracy': 0.5137959866220736, 'recall': 0.6229799668973899, 'precision': 0.5351447136791965, 'f1': 0.5633138819730521}\n",
      "Knn(k=11, norm=1, cat_hamming=False, standardization=\"min_max\", cat_vars=None)\n",
      "{'accuracy': 0.5584448160535117, 'recall': 0.6842568333058351, 'precision': 0.5696589708929862, 'f1': 0.6095882125629005}\n",
      "Knn(k=11, norm=2, cat_hamming=False, standardization=\"normalize\", cat_vars=None)\n",
      "{'accuracy': 0.5208193979933111, 'recall': 0.6257499482771716, 'precision': 0.5412390572390573, 'f1': 0.5661866982465557}\n",
      "Knn(k=11, norm=2, cat_hamming=False, standardization=\"min_max\", cat_vars=None)\n",
      "{'accuracy': 0.5591973244147157, 'recall': 0.6543774980816723, 'precision': 0.5745414006283571, 'f1': 0.599524543425409}\n",
      "Knn(k=11, norm=3, cat_hamming=False, standardization=\"normalize\", cat_vars=None)\n",
      "{'accuracy': 0.5521739130434782, 'recall': 0.6532912977323141, 'precision': 0.5697477570738441, 'f1': 0.5955360143044615}\n",
      "Knn(k=11, norm=3, cat_hamming=False, standardization=\"min_max\", cat_vars=None)\n",
      "{'accuracy': 0.5676421404682275, 'recall': 0.6535300424520025, 'precision': 0.5800983958570165, 'f1': 0.6030844144905826}\n",
      "Knn(k=13, norm=1, cat_hamming=False, standardization=\"normalize\", cat_vars=None)\n",
      "{'accuracy': 0.5403846153846155, 'recall': 0.6500080216214517, 'precision': 0.5525444828348054, 'f1': 0.5858111362828918}\n",
      "Knn(k=13, norm=1, cat_hamming=False, standardization=\"min_max\", cat_vars=None)\n",
      "{'accuracy': 0.5514214046822742, 'recall': 0.6751446091718324, 'precision': 0.564672024478059, 'f1': 0.6037178861134216}\n",
      "Knn(k=13, norm=2, cat_hamming=False, standardization=\"normalize\", cat_vars=None)\n",
      "{'accuracy': 0.5307692307692308, 'recall': 0.6322857993992295, 'precision': 0.5461339700141196, 'f1': 0.5708865607200789}\n",
      "Knn(k=13, norm=2, cat_hamming=False, standardization=\"min_max\", cat_vars=None)\n",
      "{'accuracy': 0.5744147157190636, 'recall': 0.677550160668128, 'precision': 0.5843295392139096, 'f1': 0.6156043693084662}\n",
      "Knn(k=13, norm=3, cat_hamming=False, standardization=\"normalize\", cat_vars=None)\n",
      "{'accuracy': 0.5123745819397995, 'recall': 0.6210404551085131, 'precision': 0.5369605336682282, 'f1': 0.5622570680883908}\n",
      "Knn(k=13, norm=3, cat_hamming=False, standardization=\"min_max\", cat_vars=None)\n"
     ]
    },
    {
     "name": "stdout",
     "output_type": "stream",
     "text": [
      "{'accuracy': 0.551923076923077, 'recall': 0.6496561872287824, 'precision': 0.5701602416530537, 'f1': 0.5942924814121555}\n"
     ]
    },
    {
     "data": {
      "text/plain": [
       "best_model_performance(model=Knn(k=13, norm=2, cat_hamming=False, standardization=\"min_max\", cat_vars=None), accuracy=0.5744147157190636, all_metrics={'accuracy': 0.5744147157190636, 'recall': 0.677550160668128, 'precision': 0.5843295392139096, 'f1': 0.6156043693084662})"
      ]
     },
     "execution_count": 8,
     "metadata": {},
     "output_type": "execute_result"
    }
   ],
   "source": [
    "cv = Cross_Validation(10)   \n",
    "param_dict_list = {'k': range(1, 14, 2), \n",
    "                   'norm': [1, 2, 3], \n",
    "                   'cat_hamming': [False], \n",
    "                   'standardization': ['normalize', 'min_max'], #, 'min_max'\n",
    "                   'cat_vars':  [None], \n",
    "                  }\n",
    "# cols = ['X', 'day', 'temp', 'RH', 'wind']\n",
    "cv.get_cv_grid_best_model(tr_X, tr_y, param_dict_list, Knn)"
   ]
  },
  {
   "cell_type": "markdown",
   "metadata": {},
   "source": [
    "Fitting the best model on the test data and evaluating it."
   ]
  },
  {
   "cell_type": "code",
   "execution_count": 9,
   "metadata": {},
   "outputs": [
    {
     "data": {
      "text/plain": [
       "{'accuracy': 0.6470588235294118,\n",
       " 'recall': 0.5925925925925926,\n",
       " 'precision': 0.6956521739130435,\n",
       " 'f1': 0.6399999999999999}"
      ]
     },
     "execution_count": 9,
     "metadata": {},
     "output_type": "execute_result"
    }
   ],
   "source": [
    "cv_best_mod = cv.best_model.model\n",
    "cv_best_mod.fit(tr_X, tr_y)\n",
    "cv_best_mod.evaluate_model(ts_X, ts_y)"
   ]
  },
  {
   "cell_type": "markdown",
   "metadata": {},
   "source": [
    "Refitting the model on the best params for verification of cv function"
   ]
  },
  {
   "cell_type": "code",
   "execution_count": 10,
   "metadata": {},
   "outputs": [
    {
     "data": {
      "text/plain": [
       "{'accuracy': 0.6470588235294118,\n",
       " 'recall': 0.5925925925925926,\n",
       " 'precision': 0.6956521739130435,\n",
       " 'f1': 0.6399999999999999}"
      ]
     },
     "execution_count": 10,
     "metadata": {},
     "output_type": "execute_result"
    }
   ],
   "source": [
    "model_knn = Knn(k=13, norm=2, cat_hamming=False, standardization=\"min_max\", cat_vars=None)\n",
    "model_knn.fit(tr_X, tr_y)\n",
    "model_knn.evaluate_model(ts_X, ts_y)"
   ]
  },
  {
   "cell_type": "markdown",
   "metadata": {},
   "source": [
    "The classification accuracy on the test set is 64.70%"
   ]
  },
  {
   "cell_type": "markdown",
   "metadata": {},
   "source": [
    "### Verifying the best configuration results with scikit-learn"
   ]
  },
  {
   "cell_type": "code",
   "execution_count": 11,
   "metadata": {},
   "outputs": [
    {
     "data": {
      "text/plain": [
       "0.6470588235294118"
      ]
     },
     "execution_count": 11,
     "metadata": {},
     "output_type": "execute_result"
    }
   ],
   "source": [
    "from sklearn.neighbors import KNeighborsClassifier\n",
    "from sklearn.preprocessing import MinMaxScaler\n",
    "from sklearn import pipeline\n",
    "p = pipeline.Pipeline([('scaling', MinMaxScaler()),\n",
    "                       ('knn', KNeighborsClassifier(n_neighbors=13))])\n",
    "# knn = KNeighborsClassifier(n_neighbors=13)\n",
    "# knn.fit(tr_X, tr_y)\n",
    "# print((knn.predict(ts_X) == ts_y).mean())\n",
    "p.fit(tr_X, tr_y)\n",
    "p.score(ts_X, ts_y)"
   ]
  },
  {
   "cell_type": "markdown",
   "metadata": {},
   "source": [
    "As can be seen the accuracy matches exactly. "
   ]
  },
  {
   "cell_type": "markdown",
   "metadata": {},
   "source": [
    "# Linear Regression"
   ]
  },
  {
   "cell_type": "code",
   "execution_count": 12,
   "metadata": {},
   "outputs": [],
   "source": [
    "tr_is_affected = (df_train_org['area'] > 0)\n",
    "ts_is_affected = (df_test_org['area'] > 0)\n",
    "\n",
    "tr_X = df_train_org.loc[tr_is_affected, df_train_org.columns != 'area'].reset_index(drop = True)\n",
    "ts_X = df_test_org.loc[ts_is_affected, df_test_org.columns != 'area'].reset_index(drop = True)\n",
    "tr_y = df_train_org.loc[tr_is_affected, \"area\"].reset_index(drop = True)\n",
    "ts_y = df_test_org.loc[ts_is_affected, \"area\"].reset_index(drop = True)"
   ]
  },
  {
   "cell_type": "code",
   "execution_count": 13,
   "metadata": {},
   "outputs": [
    {
     "data": {
      "text/plain": [
       "<matplotlib.axes._subplots.AxesSubplot at 0x7f7afb933cc0>"
      ]
     },
     "execution_count": 13,
     "metadata": {},
     "output_type": "execute_result"
    },
    {
     "data": {
      "image/png": "[encoded data removed]",
      "text/plain": [
       "<Figure size 432x288 with 1 Axes>"
      ]
     },
     "metadata": {
      "needs_background": "light"
     },
     "output_type": "display_data"
    }
   ],
   "source": [
    "sns.distplot(tr_y)"
   ]
  },
  {
   "cell_type": "markdown",
   "metadata": {},
   "source": [
    "The data is highly right skewed."
   ]
  },
  {
   "cell_type": "code",
   "execution_count": 14,
   "metadata": {},
   "outputs": [
    {
     "data": {
      "text/plain": [
       "<matplotlib.axes._subplots.AxesSubplot at 0x7f7afb7bedd8>"
      ]
     },
     "execution_count": 14,
     "metadata": {},
     "output_type": "execute_result"
    },
    {
     "data": {
      "image/png": "[encoded data removed]",
      "text/plain": [
       "<Figure size 432x288 with 1 Axes>"
      ]
     },
     "metadata": {
      "needs_background": "light"
     },
     "output_type": "display_data"
    }
   ],
   "source": [
    "sns.distplot(np.log(tr_y))"
   ]
  },
  {
   "cell_type": "markdown",
   "metadata": {},
   "source": [
    "The log of the outcome variable is normal. This means the area is log-normally distributed. "
   ]
  },
  {
   "cell_type": "code",
   "execution_count": 15,
   "metadata": {},
   "outputs": [],
   "source": [
    "class RegressionMetrics():\n",
    "    \n",
    "    def __init__(self, y, y_pred):\n",
    "        self.y, self.y_pred = y, y_pred\n",
    "        \n",
    "    def _sst(self):\n",
    "        return ((self.y - self.y.mean())**2).sum()\n",
    "    \n",
    "    @property\n",
    "    def rss(self):\n",
    "        return ((self.y - self.y_pred)**2).sum()\n",
    "    \n",
    "    @property\n",
    "    def mse(self):\n",
    "        return self.rss/len(self.y)\n",
    "    \n",
    "    @property\n",
    "    def rmse(self):\n",
    "        return self.mse**(0.5)\n",
    "    \n",
    "    @property\n",
    "    def mape(self):\n",
    "        return (np.abs(self.y - self.y_pred)/self.y).mean()\n",
    "        \n",
    "    @property\n",
    "    def mae(self):\n",
    "        return np.abs((self.y - self.y_pred)).mean()\n",
    "        \n",
    "    @property\n",
    "    def r_squared(self):\n",
    "        return (1 - self.rss/self._sst())\n",
    "    \n",
    "    @property\n",
    "    def results(self):\n",
    "        return {'rss': self.rss,\n",
    "                'mse': self.mse,\n",
    "                'rmse': self.rmse,\n",
    "                'mape': self.mape,\n",
    "                'mae': self.mae,\n",
    "                'r_squared': self.r_squared\n",
    "                }\n",
    "        \n",
    "\n",
    "class Linear_Regression():\n",
    "    \"\"\"A linear regressor\"\"\"\n",
    "    \n",
    "    def __init__(self):\n",
    "        pass\n",
    "    \n",
    "    def fit(self, X, y):\n",
    "        self.X = X\n",
    "        self.y = y\n",
    "        self.closed_form()\n",
    "        cols = list(X.columns)\n",
    "        cols.append(\"1\")\n",
    "        eqn = 'y = '\n",
    "        for w,c in zip(self.w, cols):\n",
    "            eqn += f'({round(w, 3)})*{c} + '\n",
    "        eqn = eqn[:-3]\n",
    "        self.eqn = eqn\n",
    "        print(self.eqn)\n",
    "    \n",
    "    def closed_form(self):\n",
    "        X = self.X.copy()\n",
    "        X['bias'] = 1\n",
    "        self.w = np.dot(np.dot(np.linalg.inv(np.dot(X.T, X)), X.T), self.y)\n",
    "    \n",
    "    def predict_one(self, vec):\n",
    "        return np.dot(self.w, vec)\n",
    "    \n",
    "    def predict(self, X_org):\n",
    "        X = X_org.copy()\n",
    "        X['bias'] = 1\n",
    "        return X.apply(self.predict_one, axis = 1)\n",
    "    \n",
    "    def evaluate(self, X, y):\n",
    "        y_pred = self.predict(X)\n",
    "#         (((y - y_pred)**2).mean())**0.5 # rmse\n",
    "# ((y - y_pred).abs()/y).mean() #mape\n",
    "        return RegressionMetrics(y, y_pred).results"
   ]
  },
  {
   "cell_type": "markdown",
   "metadata": {},
   "source": [
    "Fitting an OLS model"
   ]
  },
  {
   "cell_type": "code",
   "execution_count": 16,
   "metadata": {},
   "outputs": [
    {
     "name": "stdout",
     "output_type": "stream",
     "text": [
      "y = (2.819)*X + (-1.029)*Y + (3.162)*month + (2.793)*day + (-0.028)*FFMC + (0.196)*DMC + (-0.039)*DC + (-1.346)*ISI + (0.912)*temp + (-0.69)*RH + (1.083)*wind + (-2.243)*rain + (2.112)*1\n"
     ]
    },
    {
     "data": {
      "text/plain": [
       "{'rss': 103808.62852746788,\n",
       " 'mse': 3844.7640195358476,\n",
       " 'rmse': 62.00616114174339,\n",
       " 'mape': 7.26737683003025,\n",
       " 'mae': 32.594488277830685,\n",
       " 'r_squared': 0.0036266809824708757}"
      ]
     },
     "execution_count": 16,
     "metadata": {},
     "output_type": "execute_result"
    }
   ],
   "source": [
    "model_lin_reg = Linear_Regression()\n",
    "model_lin_reg.fit(tr_X, tr_y)\n",
    "model_lin_reg.evaluate(ts_X, ts_y)\n",
    "# df_preds = pd.DataFrame({'y_true': ts_y, 'y_pred':model_lin_reg.predict(ts_X)})"
   ]
  },
  {
   "cell_type": "code",
   "execution_count": 17,
   "metadata": {},
   "outputs": [
    {
     "data": {
      "text/plain": [
       "0.16517641133187888"
      ]
     },
     "execution_count": 17,
     "metadata": {},
     "output_type": "execute_result"
    }
   ],
   "source": [
    "np.corrcoef(ts_y, model_lin_reg.predict(ts_X))[0, 1]"
   ]
  },
  {
   "cell_type": "markdown",
   "metadata": {},
   "source": [
    "The RSS is 103808.63 and the pearson's correlation coefficient is 0.165"
   ]
  },
  {
   "cell_type": "markdown",
   "metadata": {},
   "source": [
    "Verifying our model using scikit learn"
   ]
  },
  {
   "cell_type": "code",
   "execution_count": 18,
   "metadata": {},
   "outputs": [
    {
     "name": "stdout",
     "output_type": "stream",
     "text": [
      "[ 2.81904658 -1.02898407  3.16160504  2.79333717 -0.02815015  0.19612805\n",
      " -0.03895839 -1.34555654  0.91209888 -0.69033134  1.08334664 -2.24346366] 2.112104869385611\n"
     ]
    },
    {
     "data": {
      "text/plain": [
       "0.003626680982566577"
      ]
     },
     "execution_count": 18,
     "metadata": {},
     "output_type": "execute_result"
    }
   ],
   "source": [
    "from sklearn import linear_model\n",
    "\n",
    "model_lm = linear_model.LinearRegression()\n",
    "model_lm.fit(tr_X, tr_y)\n",
    "print(model_lm.coef_, model_lm.intercept_)\n",
    "model_lm.score(ts_X, ts_y)"
   ]
  },
  {
   "cell_type": "code",
   "execution_count": 19,
   "metadata": {},
   "outputs": [],
   "source": [
    "from sklearn.preprocessing import PolynomialFeatures\n",
    "\n",
    "poly = PolynomialFeatures(2)\n",
    "\n",
    "tr_X_poly = pd.DataFrame(poly.fit_transform(tr_X))\n",
    "ts_X_poly = pd.DataFrame(poly.transform(ts_X))"
   ]
  },
  {
   "cell_type": "code",
   "execution_count": 20,
   "metadata": {},
   "outputs": [
    {
     "name": "stdout",
     "output_type": "stream",
     "text": [
      "y = (24075295931794.797)*0 + (-311920739577.466)*1 + (111556060101.059)*2 + (195799073686.55)*3 + (-509351556459.181)*4 + (-228135243832.616)*5 + (8430561536.346)*6 + (-4946188130.054)*7 + (169396877560.23)*8 + (-4318029517.001)*9 + (-6465101138.018)*10 + (-136940540111.221)*11 + (-3.447697325395941e+17)*12 + (-56981699875.951)*13 + (9341250944.004)*14 + (40056174315.534)*15 + (15489509835.96)*16 + (4016289181.513)*17 + (-78312455.291)*18 + (239529265.454)*19 + (-7833388495.512)*20 + (-561537126.739)*21 + (-877128990.205)*22 + (-2350949536.645)*23 + (-3.5796917747702996e+16)*24 + (-1407.02)*25 + (202.141)*26 + (449.575)*27 + (-877.322)*28 + (36.472)*29 + (-7.81)*30 + (221.905)*31 + (176.544)*32 + (-55.312)*33 + (-1576.262)*34 + (1.1358197123414107e+17)*35 + (-466.017)*36 + (-37.511)*37 + (-724.238)*38 + (-13.416)*39 + (9.569)*40 + (351.578)*41 + (-17.495)*42 + (-74.31)*43 + (-259.034)*44 + (-4449685631566111.5)*45 + (-34.01)*46 + (-634.363)*47 + (12.859)*48 + (0.252)*49 + (349.031)*50 + (-31.988)*51 + (-31.461)*52 + (-147.256)*53 + (1.5023315606507732e+16)*54 + (90.874)*55 + (-11.171)*56 + (6.537)*57 + (-37.87)*58 + (11.038)*59 + (0.527)*60 + (18.871)*61 + (576203813013466.6)*62 + (0.05)*63 + (-0.037)*64 + (2.84)*65 + (-2.493)*66 + (-0.802)*67 + (-0.778)*68 + (-22965097209394.64)*69 + (-0.032)*70 + (-3.049)*71 + (0.855)*72 + (0.543)*73 + (2.344)*74 + (-22962187718546.77)*75 + (22.166)*76 + (0.367)*77 + (1.485)*78 + (8.747)*79 + (-192709516796754.62)*80 + (2.337)*81 + (0.273)*82 + (-1.963)*83 + (-1958277982271.142)*84 + (-0.207)*85 + (-1.876)*86 + (-42618184337.644)*87 + (-1.443)*88 + (-62629962751.843)*89 + (15002624551.485)*90 + (15664352654266.83)*1\n"
     ]
    },
    {
     "data": {
      "text/plain": [
       "{'rss': 9.126455485952154e+27,\n",
       " 'mse': 3.380168698500798e+26,\n",
       " 'rmse': 18385235104563.656,\n",
       " 'mape': 6778814855466.202,\n",
       " 'mae': 18351467985673.582,\n",
       " 'r_squared': -8.75973112485324e+22}"
      ]
     },
     "execution_count": 20,
     "metadata": {},
     "output_type": "execute_result"
    }
   ],
   "source": [
    "model_lin_poly = Linear_Regression()\n",
    "model_lin_poly.fit(tr_X_poly, tr_y)\n",
    "model_lin_poly.evaluate(ts_X_poly, ts_y)"
   ]
  },
  {
   "cell_type": "markdown",
   "metadata": {},
   "source": [
    "The RSS is very high and is evidence of extreme overfitting. I couldn't fit higher order features because of computational issues. "
   ]
  }
 ],
 "metadata": {
  "kernelspec": {
   "display_name": "Python 3",
   "language": "python",
   "name": "python3"
  },
  "language_info": {
   "codemirror_mode": {
    "name": "ipython",
    "version": 3
   },
   "file_extension": ".py",
   "mimetype": "text/x-python",
   "name": "python",
   "nbconvert_exporter": "python",
   "pygments_lexer": "ipython3",
   "version": "3.7.1"
  },
  "latex_envs": {
   "LaTeX_envs_menu_present": true,
   "autoclose": false,
   "autocomplete": true,
   "bibliofile": "biblio.bib",
   "cite_by": "apalike",
   "current_citInitial": 1,
   "eqLabelWithNumbers": true,
   "eqNumInitial": 1,
   "hotkeys": {
    "equation": "Ctrl-E",
    "itemize": "Ctrl-I"
   },
   "labels_anchors": false,
   "latex_user_defs": false,
   "report_style_numbering": false,
   "user_envs_cfg": false
  },
  "notify_time": "5",
  "toc": {
   "base_numbering": 1,
   "nav_menu": {
    "height": "339px",
    "width": "290px"
   },
   "number_sections": true,
   "sideBar": true,
   "skip_h1_title": false,
   "title_cell": "Table of Contents",
   "title_sidebar": "Contents",
   "toc_cell": false,
   "toc_position": {},
   "toc_section_display": true,
   "toc_window_display": false
  },
  "varInspector": {
   "cols": {
    "lenName": 16,
    "lenType": 16,
    "lenVar": 40
   },
   "kernels_config": {
    "python": {
     "delete_cmd_postfix": "",
     "delete_cmd_prefix": "del ",
     "library": "var_list.py",
     "varRefreshCmd": "print(var_dic_list())"
    },
    "r": {
     "delete_cmd_postfix": ") ",
     "delete_cmd_prefix": "rm(",
     "library": "var_list.r",
     "varRefreshCmd": "cat(var_dic_list()) "
    }
   },
   "types_to_exclude": [
    "module",
    "function",
    "builtin_function_or_method",
    "instance",
    "_Feature"
   ],
   "window_display": false
  }
 },
 "nbformat": 4,
 "nbformat_minor": 2
}
