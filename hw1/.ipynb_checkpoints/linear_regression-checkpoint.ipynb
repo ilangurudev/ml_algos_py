{
 "cells": [
  {
   "cell_type": "code",
   "execution_count": 1,
   "metadata": {},
   "outputs": [],
   "source": [
    "from typing import Union\n",
    "import pandas as pd\n",
    "import numpy as np\n",
    "import collections\n",
    "import math\n",
    "from sklearn.neighbors import KNeighborsClassifier\n",
    "from sklearn import model_selection\n",
    "from sklearn import preprocessing\n",
    "import itertools\n",
    "\n",
    "from IPython.core.debugger import set_trace"
   ]
  },
  {
   "cell_type": "code",
   "execution_count": 6,
   "metadata": {},
   "outputs": [],
   "source": [
    "df_train_org = pd.read_csv(\"data/train.csv\")\n",
    "df_test_org = pd.read_csv(\"data/test.csv\")"
   ]
  },
  {
   "cell_type": "code",
   "execution_count": 81,
   "metadata": {},
   "outputs": [],
   "source": [
    "class Standardize():\n",
    "    \n",
    "    def __init__(self, X, cat=None):\n",
    "        self.X = X\n",
    "        self.cat = cat\n",
    "        if cat is not None:\n",
    "            self.cat_indices = [list(X.columns).index(c) for c in cat]\n",
    "        else:\n",
    "            self.cat_indices = None\n",
    "        \n",
    "    @property\n",
    "    def normalize_mappings(self):\n",
    "        mu = self.X.mean()\n",
    "        sd = self.X.std()\n",
    "        if self.cat is not None:\n",
    "            mu[self.cat_indices] = 0\n",
    "            sd[self.cat_indices] = 1\n",
    "        return {'mu': mu, 'sd': sd}\n",
    "        \n",
    "    @property\n",
    "    def min_max_mappings(self):\n",
    "        mins = self.X.min()\n",
    "        maxs = self.X.max()\n",
    "        if self.cat is not None:\n",
    "            mins[self.cat_indices] = 0\n",
    "            maxs[self.cat_indices] = 1\n",
    "        return {'mins': mins, 'maxs': maxs}\n",
    "    \n",
    "    def standardize(self, method=\"normalize\", X=None):\n",
    "        if X is None:\n",
    "            X = self.X\n",
    "        if method == \"normalize\":\n",
    "            X = (X - self.normalize_mappings['mu'])/self.normalize_mappings['sd']\n",
    "        elif method == \"min_max\":\n",
    "            X = ((X - self.min_max_mappings['mins'])\n",
    "                 /(self.min_max_mappings['maxs'] - self.min_max_mappings['mins']))\n",
    "        return X\n",
    "        \n",
    "\n",
    "tr_is_affected = (df_train_org['area'] > 0)\n",
    "ts_is_affected = (df_test_org['area'] > 0)\n",
    "\n",
    "# print(df_train_org['area'])\n",
    "# print(len(tr_is_affected))\n",
    "tr_X = df_train_org.loc[tr_is_affected, df_train_org.columns != 'area'].reset_index(drop = True)\n",
    "ts_X = df_test_org.loc[ts_is_affected, df_test_org.columns != 'area'].reset_index(drop = True)\n",
    "tr_y = df_train_org.loc[tr_is_affected, \"area\"].reset_index(drop = True)\n",
    "ts_y = df_test_org.loc[ts_is_affected, \"area\"].reset_index(drop = True)\n",
    "# tr_y"
   ]
  },
  {
   "cell_type": "code",
   "execution_count": 85,
   "metadata": {},
   "outputs": [],
   "source": [
    "class Linear_Regression():\n",
    "    \"\"\"A linear regressor\"\"\"\n",
    "    \n",
    "    def __init__(self, k: int = 3,\n",
    "                 norm = 2.0,\n",
    "                 cat_hamming = False,\n",
    "                 standardization = \"normalize\",\n",
    "                 cat_vars=None):\n",
    "        pass\n",
    "#         if 'int' in str(type(k)) and k > 0:\n",
    "#             self.k = k\n",
    "#         else:    \n",
    "#             print(\"Inappropriate k value. Setting k value to 1\")\n",
    "#             self.k = 1          \n",
    "#         self.norm = norm\n",
    "#         self.cat_hamming = cat_hamming\n",
    "#         self.standardization = standardization\n",
    "#         self.cat_vars = cat_vars\n",
    "\n",
    "    \n",
    "    def fit(self, X, y):\n",
    "        self.X = X\n",
    "        self.y = y\n",
    "        self.closed_form()\n",
    "        cols = list(X.columns)\n",
    "        cols.append(\"\")\n",
    "        eqn = 'y = '\n",
    "        for w,c in zip(self.w, cols):\n",
    "            eqn += f'({round(w, 3)})*{c} + '\n",
    "        eqn = eqn[:-3]\n",
    "        self.eqn = eqn\n",
    "        print(self.eqn)\n",
    "    \n",
    "    def closed_form(self):\n",
    "        X = self.X.copy()\n",
    "        X['bias'] = 1\n",
    "        self.w = np.dot(np.dot(np.linalg.inv(np.dot(X.T, X)), X.T), self.y)\n",
    "    \n",
    "    def predict_one(self, vec):\n",
    "        return np.dot(self.w, vec)\n",
    "    \n",
    "    def predict(self, X):\n",
    "        X['bias'] = 1\n",
    "        return X.apply(self.predict_one, axis = 1)\n",
    "    \n",
    "    def evaluate(self, X, y):\n",
    "        y_pred = self.predict(X)\n",
    "        (((y - y_pred)**2).mean())**0.5 # rmse\n",
    "        return ((y - y_pred).abs()/y).mean() #mape\n",
    "        \n",
    "        \n",
    "        \n",
    "        "
   ]
  },
  {
   "cell_type": "code",
   "execution_count": 91,
   "metadata": {},
   "outputs": [
    {
     "name": "stdout",
     "output_type": "stream",
     "text": [
      "y = (2.819)*X + (-1.029)*Y + (3.162)*month + (2.793)*day + (-0.028)*FFMC + (0.196)*DMC + (-0.039)*DC + (-1.346)*ISI + (0.912)*temp + (-0.69)*RH + (1.083)*wind + (-2.243)*rain + (2.112)*\n"
     ]
    },
    {
     "name": "stderr",
     "output_type": "stream",
     "text": [
      "/home/gurudev/anaconda3/lib/python3.6/site-packages/plotnine/layer.py:449: UserWarning: geom_point : Removed 2 rows containing missing values.\n",
      "  self.data = self.geom.handle_na(self.data)\n"
     ]
    },
    {
     "data": {
      "image/png": "[encoded data removed]",
      "text/plain": [
       "<Figure size 640x480 with 1 Axes>"
      ]
     },
     "metadata": {},
     "output_type": "display_data"
    },
    {
     "data": {
      "text/plain": [
       "<ggplot: (8733172897123)>"
      ]
     },
     "execution_count": 91,
     "metadata": {},
     "output_type": "execute_result"
    }
   ],
   "source": [
    "# A = np.array([1,2,3,4]).reshape((2,2))\n",
    "# print(A.T, A)\n",
    "model_lin_reg = Linear_Regression()\n",
    "model_lin_reg.fit(tr_X, tr_y)\n",
    "model_lin_reg.evaluate(ts_X, ts_y)\n",
    "df_preds = pd.DataFrame({'y_true': ts_y, 'y_pred':model_lin_reg.predict(ts_X)})\n",
    "from plotnine import *\n",
    "ggplot(aes('y_true', 'y_pred'), df_preds) + geom_point() + xlim([None, 85])"
   ]
  },
  {
   "cell_type": "code",
   "execution_count": 41,
   "metadata": {},
   "outputs": [
    {
     "data": {
      "text/html": [
       "<table class=\"simpletable\">\n",
       "<caption>OLS Regression Results</caption>\n",
       "<tr>\n",
       "  <th>Dep. Variable:</th>          <td>area</td>       <th>  R-squared:         </th> <td>   0.038</td>\n",
       "</tr>\n",
       "<tr>\n",
       "  <th>Model:</th>                   <td>OLS</td>       <th>  Adj. R-squared:    </th> <td>  -0.012</td>\n",
       "</tr>\n",
       "<tr>\n",
       "  <th>Method:</th>             <td>Least Squares</td>  <th>  F-statistic:       </th> <td>  0.7587</td>\n",
       "</tr>\n",
       "<tr>\n",
       "  <th>Date:</th>             <td>Mon, 11 Feb 2019</td> <th>  Prob (F-statistic):</th>  <td> 0.693</td> \n",
       "</tr>\n",
       "<tr>\n",
       "  <th>Time:</th>                 <td>01:36:04</td>     <th>  Log-Likelihood:    </th> <td> -1429.8</td>\n",
       "</tr>\n",
       "<tr>\n",
       "  <th>No. Observations:</th>      <td>   243</td>      <th>  AIC:               </th> <td>   2886.</td>\n",
       "</tr>\n",
       "<tr>\n",
       "  <th>Df Residuals:</th>          <td>   230</td>      <th>  BIC:               </th> <td>   2931.</td>\n",
       "</tr>\n",
       "<tr>\n",
       "  <th>Df Model:</th>              <td>    12</td>      <th>                     </th>     <td> </td>   \n",
       "</tr>\n",
       "<tr>\n",
       "  <th>Covariance Type:</th>      <td>nonrobust</td>    <th>                     </th>     <td> </td>   \n",
       "</tr>\n",
       "</table>\n",
       "<table class=\"simpletable\">\n",
       "<tr>\n",
       "      <td></td>         <th>coef</th>     <th>std err</th>      <th>t</th>      <th>P>|t|</th>  <th>[0.025</th>    <th>0.975]</th>  \n",
       "</tr>\n",
       "<tr>\n",
       "  <th>Intercept</th> <td>    2.1121</td> <td>  223.172</td> <td>    0.009</td> <td> 0.992</td> <td> -437.612</td> <td>  441.836</td>\n",
       "</tr>\n",
       "<tr>\n",
       "  <th>X</th>         <td>    2.8190</td> <td>    2.854</td> <td>    0.988</td> <td> 0.324</td> <td>   -2.804</td> <td>    8.442</td>\n",
       "</tr>\n",
       "<tr>\n",
       "  <th>Y</th>         <td>   -1.0290</td> <td>    5.787</td> <td>   -0.178</td> <td> 0.859</td> <td>  -12.431</td> <td>   10.373</td>\n",
       "</tr>\n",
       "<tr>\n",
       "  <th>month</th>     <td>    3.1616</td> <td>    5.544</td> <td>    0.570</td> <td> 0.569</td> <td>   -7.762</td> <td>   14.085</td>\n",
       "</tr>\n",
       "<tr>\n",
       "  <th>day</th>       <td>    2.7933</td> <td>    2.936</td> <td>    0.951</td> <td> 0.342</td> <td>   -2.992</td> <td>    8.578</td>\n",
       "</tr>\n",
       "<tr>\n",
       "  <th>FFMC</th>      <td>   -0.0282</td> <td>    2.488</td> <td>   -0.011</td> <td> 0.991</td> <td>   -4.930</td> <td>    4.874</td>\n",
       "</tr>\n",
       "<tr>\n",
       "  <th>DMC</th>       <td>    0.1961</td> <td>    0.149</td> <td>    1.317</td> <td> 0.189</td> <td>   -0.097</td> <td>    0.490</td>\n",
       "</tr>\n",
       "<tr>\n",
       "  <th>DC</th>        <td>   -0.0390</td> <td>    0.065</td> <td>   -0.602</td> <td> 0.548</td> <td>   -0.166</td> <td>    0.089</td>\n",
       "</tr>\n",
       "<tr>\n",
       "  <th>ISI</th>       <td>   -1.3456</td> <td>    2.133</td> <td>   -0.631</td> <td> 0.529</td> <td>   -5.549</td> <td>    2.858</td>\n",
       "</tr>\n",
       "<tr>\n",
       "  <th>temp</th>      <td>    0.9121</td> <td>    1.630</td> <td>    0.560</td> <td> 0.576</td> <td>   -2.299</td> <td>    4.123</td>\n",
       "</tr>\n",
       "<tr>\n",
       "  <th>RH</th>        <td>   -0.6903</td> <td>    0.524</td> <td>   -1.318</td> <td> 0.189</td> <td>   -1.723</td> <td>    0.342</td>\n",
       "</tr>\n",
       "<tr>\n",
       "  <th>wind</th>      <td>    1.0833</td> <td>    3.517</td> <td>    0.308</td> <td> 0.758</td> <td>   -5.847</td> <td>    8.013</td>\n",
       "</tr>\n",
       "<tr>\n",
       "  <th>rain</th>      <td>   -2.2435</td> <td>   14.156</td> <td>   -0.158</td> <td> 0.874</td> <td>  -30.136</td> <td>   25.649</td>\n",
       "</tr>\n",
       "</table>\n",
       "<table class=\"simpletable\">\n",
       "<tr>\n",
       "  <th>Omnibus:</th>       <td>418.500</td> <th>  Durbin-Watson:     </th> <td>   1.671</td> \n",
       "</tr>\n",
       "<tr>\n",
       "  <th>Prob(Omnibus):</th> <td> 0.000</td>  <th>  Jarque-Bera (JB):  </th> <td>99427.596</td>\n",
       "</tr>\n",
       "<tr>\n",
       "  <th>Skew:</th>          <td> 9.167</td>  <th>  Prob(JB):          </th> <td>    0.00</td> \n",
       "</tr>\n",
       "<tr>\n",
       "  <th>Kurtosis:</th>      <td>100.385</td> <th>  Cond. No.          </th> <td>2.46e+04</td> \n",
       "</tr>\n",
       "</table><br/><br/>Warnings:<br/>[1] Standard Errors assume that the covariance matrix of the errors is correctly specified.<br/>[2] The condition number is large, 2.46e+04. This might indicate that there are<br/>strong multicollinearity or other numerical problems."
      ],
      "text/plain": [
       "<class 'statsmodels.iolib.summary.Summary'>\n",
       "\"\"\"\n",
       "                            OLS Regression Results                            \n",
       "==============================================================================\n",
       "Dep. Variable:                   area   R-squared:                       0.038\n",
       "Model:                            OLS   Adj. R-squared:                 -0.012\n",
       "Method:                 Least Squares   F-statistic:                    0.7587\n",
       "Date:                Mon, 11 Feb 2019   Prob (F-statistic):              0.693\n",
       "Time:                        01:36:04   Log-Likelihood:                -1429.8\n",
       "No. Observations:                 243   AIC:                             2886.\n",
       "Df Residuals:                     230   BIC:                             2931.\n",
       "Df Model:                          12                                         \n",
       "Covariance Type:            nonrobust                                         \n",
       "==============================================================================\n",
       "                 coef    std err          t      P>|t|      [0.025      0.975]\n",
       "------------------------------------------------------------------------------\n",
       "Intercept      2.1121    223.172      0.009      0.992    -437.612     441.836\n",
       "X              2.8190      2.854      0.988      0.324      -2.804       8.442\n",
       "Y             -1.0290      5.787     -0.178      0.859     -12.431      10.373\n",
       "month          3.1616      5.544      0.570      0.569      -7.762      14.085\n",
       "day            2.7933      2.936      0.951      0.342      -2.992       8.578\n",
       "FFMC          -0.0282      2.488     -0.011      0.991      -4.930       4.874\n",
       "DMC            0.1961      0.149      1.317      0.189      -0.097       0.490\n",
       "DC            -0.0390      0.065     -0.602      0.548      -0.166       0.089\n",
       "ISI           -1.3456      2.133     -0.631      0.529      -5.549       2.858\n",
       "temp           0.9121      1.630      0.560      0.576      -2.299       4.123\n",
       "RH            -0.6903      0.524     -1.318      0.189      -1.723       0.342\n",
       "wind           1.0833      3.517      0.308      0.758      -5.847       8.013\n",
       "rain          -2.2435     14.156     -0.158      0.874     -30.136      25.649\n",
       "==============================================================================\n",
       "Omnibus:                      418.500   Durbin-Watson:                   1.671\n",
       "Prob(Omnibus):                  0.000   Jarque-Bera (JB):            99427.596\n",
       "Skew:                           9.167   Prob(JB):                         0.00\n",
       "Kurtosis:                     100.385   Cond. No.                     2.46e+04\n",
       "==============================================================================\n",
       "\n",
       "Warnings:\n",
       "[1] Standard Errors assume that the covariance matrix of the errors is correctly specified.\n",
       "[2] The condition number is large, 2.46e+04. This might indicate that there are\n",
       "strong multicollinearity or other numerical problems.\n",
       "\"\"\""
      ]
     },
     "execution_count": 41,
     "metadata": {},
     "output_type": "execute_result"
    }
   ],
   "source": [
    "# from sklearn import linear_model\n",
    "\n",
    "# lm = linear_model.LinearRegression()\n",
    "# lm.fit(tr_X, tr_y)\n",
    "# lm.coef_\n",
    "from statsmodels.formula.api  import ols\n",
    "#you need a Pandas dataframe df with columns labeled Y, X, & X2\n",
    "est = ols(formula = 'area ~  '+'+'.join(tr_X.columns), data = df_train_org.loc[tr_is_affected]).fit()\n",
    "est.summary()"
   ]
  },
  {
   "cell_type": "code",
   "execution_count": 52,
   "metadata": {},
   "outputs": [
    {
     "data": {
      "text/plain": [
       "['X',\n",
       " 'Y',\n",
       " 'month',\n",
       " 'day',\n",
       " 'FFMC',\n",
       " 'DMC',\n",
       " 'DC',\n",
       " 'ISI',\n",
       " 'temp',\n",
       " 'RH',\n",
       " 'wind',\n",
       " 'rain',\n",
       " '']"
      ]
     },
     "execution_count": 52,
     "metadata": {},
     "output_type": "execute_result"
    }
   ],
   "source": [
    "x = list(tr_X.columns)\n",
    "x.append(\"\")\n",
    "x"
   ]
  },
  {
   "cell_type": "code",
   "execution_count": 54,
   "metadata": {},
   "outputs": [
    {
     "data": {
      "text/plain": [
       "3.22"
      ]
     },
     "execution_count": 54,
     "metadata": {},
     "output_type": "execute_result"
    }
   ],
   "source": [
    "round(3.22, 2)"
   ]
  }
 ],
 "metadata": {
  "kernelspec": {
   "display_name": "Python 3",
   "language": "python",
   "name": "python3"
  },
  "language_info": {
   "codemirror_mode": {
    "name": "ipython",
    "version": 3
   },
   "file_extension": ".py",
   "mimetype": "text/x-python",
   "name": "python",
   "nbconvert_exporter": "python",
   "pygments_lexer": "ipython3",
   "version": "3.6.8"
  },
  "varInspector": {
   "cols": {
    "lenName": 16,
    "lenType": 16,
    "lenVar": 40
   },
   "kernels_config": {
    "python": {
     "delete_cmd_postfix": "",
     "delete_cmd_prefix": "del ",
     "library": "var_list.py",
     "varRefreshCmd": "print(var_dic_list())"
    },
    "r": {
     "delete_cmd_postfix": ") ",
     "delete_cmd_prefix": "rm(",
     "library": "var_list.r",
     "varRefreshCmd": "cat(var_dic_list()) "
    }
   },
   "types_to_exclude": [
    "module",
    "function",
    "builtin_function_or_method",
    "instance",
    "_Feature"
   ],
   "window_display": false
  }
 },
 "nbformat": 4,
 "nbformat_minor": 2
}
