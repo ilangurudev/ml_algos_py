{
 "cells": [
  {
   "cell_type": "code",
   "execution_count": 1,
   "metadata": {},
   "outputs": [],
   "source": [
    "import pandas as pd\n",
    "import numpy as np\n",
    "import scipy\n",
    "from plotnine import *\n",
    "\n",
    "import sklearn\n",
    "from sklearn.tree import DecisionTreeClassifier, tree\n",
    "from sklearn.svm import SVC\n",
    "from sklearn.preprocessing import OneHotEncoder, LabelEncoder\n",
    "from sklearn.metrics import classification_report\n",
    "from sklearn.model_selection import GridSearchCV, cross_val_score, train_test_split\n",
    "\n",
    "from pyomo.core import *\n",
    "from pyomo.environ import *\n",
    "\n",
    "import math\n",
    "from pathlib import Path\n",
    "from functools import partial, reduce\n",
    "from typing import Union\n",
    "import itertools\n",
    "import os\n",
    "import shutil\n",
    "import collections\n",
    "from collections import Counter, namedtuple, defaultdict\n",
    "import re\n",
    "\n",
    "import time"
   ]
  },
  {
   "cell_type": "markdown",
   "metadata": {},
   "source": [
    "# Tree"
   ]
  },
  {
   "cell_type": "markdown",
   "metadata": {},
   "source": [
    "## Rainy days tree"
   ]
  },
  {
   "cell_type": "code",
   "execution_count": 2,
   "metadata": {},
   "outputs": [
    {
     "data": {
      "text/html": [
       "<div>\n",
       "<style scoped>\n",
       "    .dataframe tbody tr th:only-of-type {\n",
       "        vertical-align: middle;\n",
       "    }\n",
       "\n",
       "    .dataframe tbody tr th {\n",
       "        vertical-align: top;\n",
       "    }\n",
       "\n",
       "    .dataframe thead th {\n",
       "        text-align: right;\n",
       "    }\n",
       "</style>\n",
       "<table border=\"1\" class=\"dataframe\">\n",
       "  <thead>\n",
       "    <tr style=\"text-align: right;\">\n",
       "      <th></th>\n",
       "      <th>temperature</th>\n",
       "      <th>humidity</th>\n",
       "      <th>sky</th>\n",
       "      <th>is_rain</th>\n",
       "    </tr>\n",
       "  </thead>\n",
       "  <tbody>\n",
       "    <tr>\n",
       "      <th>0</th>\n",
       "      <td>Hot</td>\n",
       "      <td>High</td>\n",
       "      <td>Cloudy</td>\n",
       "      <td>1</td>\n",
       "    </tr>\n",
       "    <tr>\n",
       "      <th>1</th>\n",
       "      <td>Hot</td>\n",
       "      <td>High</td>\n",
       "      <td>Cloudy</td>\n",
       "      <td>1</td>\n",
       "    </tr>\n",
       "    <tr>\n",
       "      <th>2</th>\n",
       "      <td>Hot</td>\n",
       "      <td>High</td>\n",
       "      <td>Cloudy</td>\n",
       "      <td>1</td>\n",
       "    </tr>\n",
       "    <tr>\n",
       "      <th>3</th>\n",
       "      <td>Hot</td>\n",
       "      <td>High</td>\n",
       "      <td>Cloudy</td>\n",
       "      <td>1</td>\n",
       "    </tr>\n",
       "    <tr>\n",
       "      <th>4</th>\n",
       "      <td>Hot</td>\n",
       "      <td>High</td>\n",
       "      <td>Cloudy</td>\n",
       "      <td>1</td>\n",
       "    </tr>\n",
       "  </tbody>\n",
       "</table>\n",
       "</div>"
      ],
      "text/plain": [
       "  temperature humidity     sky  is_rain\n",
       "0         Hot     High  Cloudy        1\n",
       "1         Hot     High  Cloudy        1\n",
       "2         Hot     High  Cloudy        1\n",
       "3         Hot     High  Cloudy        1\n",
       "4         Hot     High  Cloudy        1"
      ]
     },
     "execution_count": 2,
     "metadata": {},
     "output_type": "execute_result"
    }
   ],
   "source": [
    "df_processed = pd.read_csv('data/q1.csv')\n",
    "df_processed.head()"
   ]
  },
  {
   "cell_type": "code",
   "execution_count": 3,
   "metadata": {},
   "outputs": [
    {
     "data": {
      "text/html": [
       "<div>\n",
       "<style scoped>\n",
       "    .dataframe tbody tr th:only-of-type {\n",
       "        vertical-align: middle;\n",
       "    }\n",
       "\n",
       "    .dataframe tbody tr th {\n",
       "        vertical-align: top;\n",
       "    }\n",
       "\n",
       "    .dataframe thead th {\n",
       "        text-align: right;\n",
       "    }\n",
       "</style>\n",
       "<table border=\"1\" class=\"dataframe\">\n",
       "  <thead>\n",
       "    <tr style=\"text-align: right;\">\n",
       "      <th></th>\n",
       "      <th>temperature</th>\n",
       "      <th>humidity</th>\n",
       "      <th>sky</th>\n",
       "      <th>is_rain</th>\n",
       "    </tr>\n",
       "  </thead>\n",
       "  <tbody>\n",
       "    <tr>\n",
       "      <th>0</th>\n",
       "      <td>1</td>\n",
       "      <td>0</td>\n",
       "      <td>1</td>\n",
       "      <td>1</td>\n",
       "    </tr>\n",
       "    <tr>\n",
       "      <th>1</th>\n",
       "      <td>1</td>\n",
       "      <td>0</td>\n",
       "      <td>1</td>\n",
       "      <td>1</td>\n",
       "    </tr>\n",
       "    <tr>\n",
       "      <th>2</th>\n",
       "      <td>1</td>\n",
       "      <td>0</td>\n",
       "      <td>1</td>\n",
       "      <td>1</td>\n",
       "    </tr>\n",
       "    <tr>\n",
       "      <th>3</th>\n",
       "      <td>1</td>\n",
       "      <td>0</td>\n",
       "      <td>1</td>\n",
       "      <td>1</td>\n",
       "    </tr>\n",
       "    <tr>\n",
       "      <th>4</th>\n",
       "      <td>1</td>\n",
       "      <td>0</td>\n",
       "      <td>1</td>\n",
       "      <td>1</td>\n",
       "    </tr>\n",
       "  </tbody>\n",
       "</table>\n",
       "</div>"
      ],
      "text/plain": [
       "   temperature  humidity  sky  is_rain\n",
       "0            1         0    1        1\n",
       "1            1         0    1        1\n",
       "2            1         0    1        1\n",
       "3            1         0    1        1\n",
       "4            1         0    1        1"
      ]
     },
     "execution_count": 3,
     "metadata": {},
     "output_type": "execute_result"
    }
   ],
   "source": [
    "df_processed = df_processed.apply(LabelEncoder().fit_transform)\n",
    "df_processed.head()"
   ]
  },
  {
   "cell_type": "code",
   "execution_count": 4,
   "metadata": {},
   "outputs": [
    {
     "data": {
      "image/svg+xml": [
       "<?xml version=\"1.0\" encoding=\"UTF-8\" standalone=\"no\"?>\n",
       "<!DOCTYPE svg PUBLIC \"-//W3C//DTD SVG 1.1//EN\"\n",
       " \"http://www.w3.org/Graphics/SVG/1.1/DTD/svg11.dtd\">\n",
       "<!-- Generated by graphviz version 2.40.1 (20161225.0304)\n",
       " -->\n",
       "<!-- Title: Tree Pages: 1 -->\n",
       "<svg width=\"954pt\" height=\"433pt\"\n",
       " viewBox=\"0.00 0.00 954.00 433.00\" xmlns=\"http://www.w3.org/2000/svg\" xmlns:xlink=\"http://www.w3.org/1999/xlink\">\n",
       "<g id=\"graph0\" class=\"graph\" transform=\"scale(1 1) rotate(0) translate(4 429)\">\n",
       "<title>Tree</title>\n",
       "<polygon fill=\"#ffffff\" stroke=\"transparent\" points=\"-4,4 -4,-429 950,-429 950,4 -4,4\"/>\n",
       "<!-- 0 -->\n",
       "<g id=\"node1\" class=\"node\">\n",
       "<title>0</title>\n",
       "<polygon fill=\"none\" stroke=\"#000000\" points=\"518.5,-425 413.5,-425 413.5,-342 518.5,-342 518.5,-425\"/>\n",
       "<text text-anchor=\"middle\" x=\"466\" y=\"-409.8\" font-family=\"Times,serif\" font-size=\"14.00\" fill=\"#000000\">sky &lt;= 0.5</text>\n",
       "<text text-anchor=\"middle\" x=\"466\" y=\"-394.8\" font-family=\"Times,serif\" font-size=\"14.00\" fill=\"#000000\">entropy = 0.993</text>\n",
       "<text text-anchor=\"middle\" x=\"466\" y=\"-379.8\" font-family=\"Times,serif\" font-size=\"14.00\" fill=\"#000000\">samples = 80</text>\n",
       "<text text-anchor=\"middle\" x=\"466\" y=\"-364.8\" font-family=\"Times,serif\" font-size=\"14.00\" fill=\"#000000\">value = [44, 36]</text>\n",
       "<text text-anchor=\"middle\" x=\"466\" y=\"-349.8\" font-family=\"Times,serif\" font-size=\"14.00\" fill=\"#000000\">class = 2</text>\n",
       "</g>\n",
       "<!-- 1 -->\n",
       "<g id=\"node2\" class=\"node\">\n",
       "<title>1</title>\n",
       "<polygon fill=\"none\" stroke=\"#000000\" points=\"437.5,-306 314.5,-306 314.5,-223 437.5,-223 437.5,-306\"/>\n",
       "<text text-anchor=\"middle\" x=\"376\" y=\"-290.8\" font-family=\"Times,serif\" font-size=\"14.00\" fill=\"#000000\">temperature &lt;= 0.5</text>\n",
       "<text text-anchor=\"middle\" x=\"376\" y=\"-275.8\" font-family=\"Times,serif\" font-size=\"14.00\" fill=\"#000000\">entropy = 0.849</text>\n",
       "<text text-anchor=\"middle\" x=\"376\" y=\"-260.8\" font-family=\"Times,serif\" font-size=\"14.00\" fill=\"#000000\">samples = 40</text>\n",
       "<text text-anchor=\"middle\" x=\"376\" y=\"-245.8\" font-family=\"Times,serif\" font-size=\"14.00\" fill=\"#000000\">value = [29, 11]</text>\n",
       "<text text-anchor=\"middle\" x=\"376\" y=\"-230.8\" font-family=\"Times,serif\" font-size=\"14.00\" fill=\"#000000\">class = 2</text>\n",
       "</g>\n",
       "<!-- 0&#45;&gt;1 -->\n",
       "<g id=\"edge1\" class=\"edge\">\n",
       "<title>0&#45;&gt;1</title>\n",
       "<path fill=\"none\" stroke=\"#000000\" d=\"M434.5224,-341.8796C427.8471,-333.0534 420.7342,-323.6485 413.8504,-314.5466\"/>\n",
       "<polygon fill=\"#000000\" stroke=\"#000000\" points=\"416.4357,-312.1626 407.612,-306.2981 410.8526,-316.3852 416.4357,-312.1626\"/>\n",
       "<text text-anchor=\"middle\" x=\"404.176\" y=\"-327.3608\" font-family=\"Times,serif\" font-size=\"14.00\" fill=\"#000000\">True</text>\n",
       "</g>\n",
       "<!-- 8 -->\n",
       "<g id=\"node9\" class=\"node\">\n",
       "<title>8</title>\n",
       "<polygon fill=\"none\" stroke=\"#000000\" points=\"610.5,-306 503.5,-306 503.5,-223 610.5,-223 610.5,-306\"/>\n",
       "<text text-anchor=\"middle\" x=\"557\" y=\"-290.8\" font-family=\"Times,serif\" font-size=\"14.00\" fill=\"#000000\">humidity &lt;= 0.5</text>\n",
       "<text text-anchor=\"middle\" x=\"557\" y=\"-275.8\" font-family=\"Times,serif\" font-size=\"14.00\" fill=\"#000000\">entropy = 0.954</text>\n",
       "<text text-anchor=\"middle\" x=\"557\" y=\"-260.8\" font-family=\"Times,serif\" font-size=\"14.00\" fill=\"#000000\">samples = 40</text>\n",
       "<text text-anchor=\"middle\" x=\"557\" y=\"-245.8\" font-family=\"Times,serif\" font-size=\"14.00\" fill=\"#000000\">value = [15, 25]</text>\n",
       "<text text-anchor=\"middle\" x=\"557\" y=\"-230.8\" font-family=\"Times,serif\" font-size=\"14.00\" fill=\"#000000\">class = 4</text>\n",
       "</g>\n",
       "<!-- 0&#45;&gt;8 -->\n",
       "<g id=\"edge8\" class=\"edge\">\n",
       "<title>0&#45;&gt;8</title>\n",
       "<path fill=\"none\" stroke=\"#000000\" d=\"M497.8274,-341.8796C504.6457,-332.9633 511.9156,-323.4565 518.9421,-314.268\"/>\n",
       "<polygon fill=\"#000000\" stroke=\"#000000\" points=\"521.7425,-316.3678 525.0368,-306.2981 516.182,-312.1156 521.7425,-316.3678\"/>\n",
       "<text text-anchor=\"middle\" x=\"528.3409\" y=\"-327.3788\" font-family=\"Times,serif\" font-size=\"14.00\" fill=\"#000000\">False</text>\n",
       "</g>\n",
       "<!-- 2 -->\n",
       "<g id=\"node3\" class=\"node\">\n",
       "<title>2</title>\n",
       "<polygon fill=\"none\" stroke=\"#000000\" points=\"227.5,-187 120.5,-187 120.5,-104 227.5,-104 227.5,-187\"/>\n",
       "<text text-anchor=\"middle\" x=\"174\" y=\"-171.8\" font-family=\"Times,serif\" font-size=\"14.00\" fill=\"#000000\">humidity &lt;= 0.5</text>\n",
       "<text text-anchor=\"middle\" x=\"174\" y=\"-156.8\" font-family=\"Times,serif\" font-size=\"14.00\" fill=\"#000000\">entropy = 0.61</text>\n",
       "<text text-anchor=\"middle\" x=\"174\" y=\"-141.8\" font-family=\"Times,serif\" font-size=\"14.00\" fill=\"#000000\">samples = 20</text>\n",
       "<text text-anchor=\"middle\" x=\"174\" y=\"-126.8\" font-family=\"Times,serif\" font-size=\"14.00\" fill=\"#000000\">value = [17, 3]</text>\n",
       "<text text-anchor=\"middle\" x=\"174\" y=\"-111.8\" font-family=\"Times,serif\" font-size=\"14.00\" fill=\"#000000\">class = 2</text>\n",
       "</g>\n",
       "<!-- 1&#45;&gt;2 -->\n",
       "<g id=\"edge2\" class=\"edge\">\n",
       "<title>1&#45;&gt;2</title>\n",
       "<path fill=\"none\" stroke=\"#000000\" d=\"M314.2957,-228.1495C289.7022,-213.6612 261.4259,-197.0034 236.7314,-182.4556\"/>\n",
       "<polygon fill=\"#000000\" stroke=\"#000000\" points=\"238.2016,-179.2595 227.8089,-177.1993 234.6485,-185.2908 238.2016,-179.2595\"/>\n",
       "</g>\n",
       "<!-- 5 -->\n",
       "<g id=\"node6\" class=\"node\">\n",
       "<title>5</title>\n",
       "<polygon fill=\"none\" stroke=\"#000000\" points=\"429.5,-187 322.5,-187 322.5,-104 429.5,-104 429.5,-187\"/>\n",
       "<text text-anchor=\"middle\" x=\"376\" y=\"-171.8\" font-family=\"Times,serif\" font-size=\"14.00\" fill=\"#000000\">humidity &lt;= 0.5</text>\n",
       "<text text-anchor=\"middle\" x=\"376\" y=\"-156.8\" font-family=\"Times,serif\" font-size=\"14.00\" fill=\"#000000\">entropy = 0.971</text>\n",
       "<text text-anchor=\"middle\" x=\"376\" y=\"-141.8\" font-family=\"Times,serif\" font-size=\"14.00\" fill=\"#000000\">samples = 20</text>\n",
       "<text text-anchor=\"middle\" x=\"376\" y=\"-126.8\" font-family=\"Times,serif\" font-size=\"14.00\" fill=\"#000000\">value = [12, 8]</text>\n",
       "<text text-anchor=\"middle\" x=\"376\" y=\"-111.8\" font-family=\"Times,serif\" font-size=\"14.00\" fill=\"#000000\">class = 2</text>\n",
       "</g>\n",
       "<!-- 1&#45;&gt;5 -->\n",
       "<g id=\"edge5\" class=\"edge\">\n",
       "<title>1&#45;&gt;5</title>\n",
       "<path fill=\"none\" stroke=\"#000000\" d=\"M376,-222.8796C376,-214.6838 376,-205.9891 376,-197.5013\"/>\n",
       "<polygon fill=\"#000000\" stroke=\"#000000\" points=\"379.5001,-197.298 376,-187.2981 372.5001,-197.2981 379.5001,-197.298\"/>\n",
       "</g>\n",
       "<!-- 3 -->\n",
       "<g id=\"node4\" class=\"node\">\n",
       "<title>3</title>\n",
       "<polygon fill=\"none\" stroke=\"#000000\" points=\"104,-68 0,-68 0,0 104,0 104,-68\"/>\n",
       "<text text-anchor=\"middle\" x=\"52\" y=\"-52.8\" font-family=\"Times,serif\" font-size=\"14.00\" fill=\"#000000\">entropy = 0.722</text>\n",
       "<text text-anchor=\"middle\" x=\"52\" y=\"-37.8\" font-family=\"Times,serif\" font-size=\"14.00\" fill=\"#000000\">samples = 10</text>\n",
       "<text text-anchor=\"middle\" x=\"52\" y=\"-22.8\" font-family=\"Times,serif\" font-size=\"14.00\" fill=\"#000000\">value = [8, 2]</text>\n",
       "<text text-anchor=\"middle\" x=\"52\" y=\"-7.8\" font-family=\"Times,serif\" font-size=\"14.00\" fill=\"#000000\">class = 2</text>\n",
       "</g>\n",
       "<!-- 2&#45;&gt;3 -->\n",
       "<g id=\"edge3\" class=\"edge\">\n",
       "<title>2&#45;&gt;3</title>\n",
       "<path fill=\"none\" stroke=\"#000000\" d=\"M128.5717,-103.9815C118.2139,-94.5151 107.2141,-84.462 96.8794,-75.0168\"/>\n",
       "<polygon fill=\"#000000\" stroke=\"#000000\" points=\"99.2331,-72.4264 89.4903,-68.2637 94.5107,-77.5935 99.2331,-72.4264\"/>\n",
       "</g>\n",
       "<!-- 4 -->\n",
       "<g id=\"node5\" class=\"node\">\n",
       "<title>4</title>\n",
       "<polygon fill=\"none\" stroke=\"#000000\" points=\"226,-68 122,-68 122,0 226,0 226,-68\"/>\n",
       "<text text-anchor=\"middle\" x=\"174\" y=\"-52.8\" font-family=\"Times,serif\" font-size=\"14.00\" fill=\"#000000\">entropy = 0.469</text>\n",
       "<text text-anchor=\"middle\" x=\"174\" y=\"-37.8\" font-family=\"Times,serif\" font-size=\"14.00\" fill=\"#000000\">samples = 10</text>\n",
       "<text text-anchor=\"middle\" x=\"174\" y=\"-22.8\" font-family=\"Times,serif\" font-size=\"14.00\" fill=\"#000000\">value = [9, 1]</text>\n",
       "<text text-anchor=\"middle\" x=\"174\" y=\"-7.8\" font-family=\"Times,serif\" font-size=\"14.00\" fill=\"#000000\">class = 2</text>\n",
       "</g>\n",
       "<!-- 2&#45;&gt;4 -->\n",
       "<g id=\"edge4\" class=\"edge\">\n",
       "<title>2&#45;&gt;4</title>\n",
       "<path fill=\"none\" stroke=\"#000000\" d=\"M174,-103.9815C174,-95.618 174,-86.7965 174,-78.3409\"/>\n",
       "<polygon fill=\"#000000\" stroke=\"#000000\" points=\"177.5001,-78.2636 174,-68.2637 170.5001,-78.2637 177.5001,-78.2636\"/>\n",
       "</g>\n",
       "<!-- 6 -->\n",
       "<g id=\"node7\" class=\"node\">\n",
       "<title>6</title>\n",
       "<polygon fill=\"none\" stroke=\"#000000\" points=\"336,-68 244,-68 244,0 336,0 336,-68\"/>\n",
       "<text text-anchor=\"middle\" x=\"290\" y=\"-52.8\" font-family=\"Times,serif\" font-size=\"14.00\" fill=\"#000000\">entropy = 1.0</text>\n",
       "<text text-anchor=\"middle\" x=\"290\" y=\"-37.8\" font-family=\"Times,serif\" font-size=\"14.00\" fill=\"#000000\">samples = 10</text>\n",
       "<text text-anchor=\"middle\" x=\"290\" y=\"-22.8\" font-family=\"Times,serif\" font-size=\"14.00\" fill=\"#000000\">value = [5, 5]</text>\n",
       "<text text-anchor=\"middle\" x=\"290\" y=\"-7.8\" font-family=\"Times,serif\" font-size=\"14.00\" fill=\"#000000\">class = 2</text>\n",
       "</g>\n",
       "<!-- 5&#45;&gt;6 -->\n",
       "<g id=\"edge6\" class=\"edge\">\n",
       "<title>5&#45;&gt;6</title>\n",
       "<path fill=\"none\" stroke=\"#000000\" d=\"M343.9768,-103.9815C337.0298,-94.9747 329.6731,-85.4367 322.7004,-76.3965\"/>\n",
       "<polygon fill=\"#000000\" stroke=\"#000000\" points=\"325.3064,-74.0444 316.4276,-68.2637 319.7636,-78.3196 325.3064,-74.0444\"/>\n",
       "</g>\n",
       "<!-- 7 -->\n",
       "<g id=\"node8\" class=\"node\">\n",
       "<title>7</title>\n",
       "<polygon fill=\"none\" stroke=\"#000000\" points=\"458,-68 354,-68 354,0 458,0 458,-68\"/>\n",
       "<text text-anchor=\"middle\" x=\"406\" y=\"-52.8\" font-family=\"Times,serif\" font-size=\"14.00\" fill=\"#000000\">entropy = 0.881</text>\n",
       "<text text-anchor=\"middle\" x=\"406\" y=\"-37.8\" font-family=\"Times,serif\" font-size=\"14.00\" fill=\"#000000\">samples = 10</text>\n",
       "<text text-anchor=\"middle\" x=\"406\" y=\"-22.8\" font-family=\"Times,serif\" font-size=\"14.00\" fill=\"#000000\">value = [7, 3]</text>\n",
       "<text text-anchor=\"middle\" x=\"406\" y=\"-7.8\" font-family=\"Times,serif\" font-size=\"14.00\" fill=\"#000000\">class = 2</text>\n",
       "</g>\n",
       "<!-- 5&#45;&gt;7 -->\n",
       "<g id=\"edge7\" class=\"edge\">\n",
       "<title>5&#45;&gt;7</title>\n",
       "<path fill=\"none\" stroke=\"#000000\" d=\"M387.1709,-103.9815C389.4459,-95.5261 391.8468,-86.6026 394.1447,-78.0623\"/>\n",
       "<polygon fill=\"#000000\" stroke=\"#000000\" points=\"397.5626,-78.8296 396.7811,-68.2637 390.803,-77.0109 397.5626,-78.8296\"/>\n",
       "</g>\n",
       "<!-- 9 -->\n",
       "<g id=\"node10\" class=\"node\">\n",
       "<title>9</title>\n",
       "<polygon fill=\"none\" stroke=\"#000000\" points=\"618.5,-187 495.5,-187 495.5,-104 618.5,-104 618.5,-187\"/>\n",
       "<text text-anchor=\"middle\" x=\"557\" y=\"-171.8\" font-family=\"Times,serif\" font-size=\"14.00\" fill=\"#000000\">temperature &lt;= 0.5</text>\n",
       "<text text-anchor=\"middle\" x=\"557\" y=\"-156.8\" font-family=\"Times,serif\" font-size=\"14.00\" fill=\"#000000\">entropy = 0.722</text>\n",
       "<text text-anchor=\"middle\" x=\"557\" y=\"-141.8\" font-family=\"Times,serif\" font-size=\"14.00\" fill=\"#000000\">samples = 20</text>\n",
       "<text text-anchor=\"middle\" x=\"557\" y=\"-126.8\" font-family=\"Times,serif\" font-size=\"14.00\" fill=\"#000000\">value = [4, 16]</text>\n",
       "<text text-anchor=\"middle\" x=\"557\" y=\"-111.8\" font-family=\"Times,serif\" font-size=\"14.00\" fill=\"#000000\">class = 4</text>\n",
       "</g>\n",
       "<!-- 8&#45;&gt;9 -->\n",
       "<g id=\"edge9\" class=\"edge\">\n",
       "<title>8&#45;&gt;9</title>\n",
       "<path fill=\"none\" stroke=\"#000000\" d=\"M557,-222.8796C557,-214.6838 557,-205.9891 557,-197.5013\"/>\n",
       "<polygon fill=\"#000000\" stroke=\"#000000\" points=\"560.5001,-197.298 557,-187.2981 553.5001,-197.2981 560.5001,-197.298\"/>\n",
       "</g>\n",
       "<!-- 12 -->\n",
       "<g id=\"node13\" class=\"node\">\n",
       "<title>12</title>\n",
       "<polygon fill=\"none\" stroke=\"#000000\" points=\"833.5,-187 710.5,-187 710.5,-104 833.5,-104 833.5,-187\"/>\n",
       "<text text-anchor=\"middle\" x=\"772\" y=\"-171.8\" font-family=\"Times,serif\" font-size=\"14.00\" fill=\"#000000\">temperature &lt;= 0.5</text>\n",
       "<text text-anchor=\"middle\" x=\"772\" y=\"-156.8\" font-family=\"Times,serif\" font-size=\"14.00\" fill=\"#000000\">entropy = 0.993</text>\n",
       "<text text-anchor=\"middle\" x=\"772\" y=\"-141.8\" font-family=\"Times,serif\" font-size=\"14.00\" fill=\"#000000\">samples = 20</text>\n",
       "<text text-anchor=\"middle\" x=\"772\" y=\"-126.8\" font-family=\"Times,serif\" font-size=\"14.00\" fill=\"#000000\">value = [11, 9]</text>\n",
       "<text text-anchor=\"middle\" x=\"772\" y=\"-111.8\" font-family=\"Times,serif\" font-size=\"14.00\" fill=\"#000000\">class = 2</text>\n",
       "</g>\n",
       "<!-- 8&#45;&gt;12 -->\n",
       "<g id=\"edge12\" class=\"edge\">\n",
       "<title>8&#45;&gt;12</title>\n",
       "<path fill=\"none\" stroke=\"#000000\" d=\"M610.699,-234.7782C638.0893,-219.618 671.7582,-200.9827 701.2374,-184.6663\"/>\n",
       "<polygon fill=\"#000000\" stroke=\"#000000\" points=\"703.1857,-187.5883 710.24,-179.6834 699.7958,-181.4639 703.1857,-187.5883\"/>\n",
       "</g>\n",
       "<!-- 10 -->\n",
       "<g id=\"node11\" class=\"node\">\n",
       "<title>10</title>\n",
       "<polygon fill=\"none\" stroke=\"#000000\" points=\"580,-68 476,-68 476,0 580,0 580,-68\"/>\n",
       "<text text-anchor=\"middle\" x=\"528\" y=\"-52.8\" font-family=\"Times,serif\" font-size=\"14.00\" fill=\"#000000\">entropy = 0.881</text>\n",
       "<text text-anchor=\"middle\" x=\"528\" y=\"-37.8\" font-family=\"Times,serif\" font-size=\"14.00\" fill=\"#000000\">samples = 10</text>\n",
       "<text text-anchor=\"middle\" x=\"528\" y=\"-22.8\" font-family=\"Times,serif\" font-size=\"14.00\" fill=\"#000000\">value = [3, 7]</text>\n",
       "<text text-anchor=\"middle\" x=\"528\" y=\"-7.8\" font-family=\"Times,serif\" font-size=\"14.00\" fill=\"#000000\">class = 4</text>\n",
       "</g>\n",
       "<!-- 9&#45;&gt;10 -->\n",
       "<g id=\"edge10\" class=\"edge\">\n",
       "<title>9&#45;&gt;10</title>\n",
       "<path fill=\"none\" stroke=\"#000000\" d=\"M546.2015,-103.9815C544.0023,-95.5261 541.6814,-86.6026 539.4601,-78.0623\"/>\n",
       "<polygon fill=\"#000000\" stroke=\"#000000\" points=\"542.8162,-77.0607 536.9116,-68.2637 536.0415,-78.8227 542.8162,-77.0607\"/>\n",
       "</g>\n",
       "<!-- 11 -->\n",
       "<g id=\"node12\" class=\"node\">\n",
       "<title>11</title>\n",
       "<polygon fill=\"none\" stroke=\"#000000\" points=\"702,-68 598,-68 598,0 702,0 702,-68\"/>\n",
       "<text text-anchor=\"middle\" x=\"650\" y=\"-52.8\" font-family=\"Times,serif\" font-size=\"14.00\" fill=\"#000000\">entropy = 0.469</text>\n",
       "<text text-anchor=\"middle\" x=\"650\" y=\"-37.8\" font-family=\"Times,serif\" font-size=\"14.00\" fill=\"#000000\">samples = 10</text>\n",
       "<text text-anchor=\"middle\" x=\"650\" y=\"-22.8\" font-family=\"Times,serif\" font-size=\"14.00\" fill=\"#000000\">value = [1, 9]</text>\n",
       "<text text-anchor=\"middle\" x=\"650\" y=\"-7.8\" font-family=\"Times,serif\" font-size=\"14.00\" fill=\"#000000\">class = 4</text>\n",
       "</g>\n",
       "<!-- 9&#45;&gt;11 -->\n",
       "<g id=\"edge11\" class=\"edge\">\n",
       "<title>9&#45;&gt;11</title>\n",
       "<path fill=\"none\" stroke=\"#000000\" d=\"M591.6298,-103.9815C599.2189,-94.8828 607.26,-85.242 614.8686,-76.1199\"/>\n",
       "<polygon fill=\"#000000\" stroke=\"#000000\" points=\"617.7039,-78.1849 621.4213,-68.2637 612.3283,-73.7012 617.7039,-78.1849\"/>\n",
       "</g>\n",
       "<!-- 13 -->\n",
       "<g id=\"node14\" class=\"node\">\n",
       "<title>13</title>\n",
       "<polygon fill=\"none\" stroke=\"#000000\" points=\"824,-68 720,-68 720,0 824,0 824,-68\"/>\n",
       "<text text-anchor=\"middle\" x=\"772\" y=\"-52.8\" font-family=\"Times,serif\" font-size=\"14.00\" fill=\"#000000\">entropy = 0.881</text>\n",
       "<text text-anchor=\"middle\" x=\"772\" y=\"-37.8\" font-family=\"Times,serif\" font-size=\"14.00\" fill=\"#000000\">samples = 10</text>\n",
       "<text text-anchor=\"middle\" x=\"772\" y=\"-22.8\" font-family=\"Times,serif\" font-size=\"14.00\" fill=\"#000000\">value = [7, 3]</text>\n",
       "<text text-anchor=\"middle\" x=\"772\" y=\"-7.8\" font-family=\"Times,serif\" font-size=\"14.00\" fill=\"#000000\">class = 2</text>\n",
       "</g>\n",
       "<!-- 12&#45;&gt;13 -->\n",
       "<g id=\"edge13\" class=\"edge\">\n",
       "<title>12&#45;&gt;13</title>\n",
       "<path fill=\"none\" stroke=\"#000000\" d=\"M772,-103.9815C772,-95.618 772,-86.7965 772,-78.3409\"/>\n",
       "<polygon fill=\"#000000\" stroke=\"#000000\" points=\"775.5001,-78.2636 772,-68.2637 768.5001,-78.2637 775.5001,-78.2636\"/>\n",
       "</g>\n",
       "<!-- 14 -->\n",
       "<g id=\"node15\" class=\"node\">\n",
       "<title>14</title>\n",
       "<polygon fill=\"none\" stroke=\"#000000\" points=\"946,-68 842,-68 842,0 946,0 946,-68\"/>\n",
       "<text text-anchor=\"middle\" x=\"894\" y=\"-52.8\" font-family=\"Times,serif\" font-size=\"14.00\" fill=\"#000000\">entropy = 0.971</text>\n",
       "<text text-anchor=\"middle\" x=\"894\" y=\"-37.8\" font-family=\"Times,serif\" font-size=\"14.00\" fill=\"#000000\">samples = 10</text>\n",
       "<text text-anchor=\"middle\" x=\"894\" y=\"-22.8\" font-family=\"Times,serif\" font-size=\"14.00\" fill=\"#000000\">value = [4, 6]</text>\n",
       "<text text-anchor=\"middle\" x=\"894\" y=\"-7.8\" font-family=\"Times,serif\" font-size=\"14.00\" fill=\"#000000\">class = 4</text>\n",
       "</g>\n",
       "<!-- 12&#45;&gt;14 -->\n",
       "<g id=\"edge14\" class=\"edge\">\n",
       "<title>12&#45;&gt;14</title>\n",
       "<path fill=\"none\" stroke=\"#000000\" d=\"M817.4283,-103.9815C827.7861,-94.5151 838.7859,-84.462 849.1206,-75.0168\"/>\n",
       "<polygon fill=\"#000000\" stroke=\"#000000\" points=\"851.4893,-77.5935 856.5097,-68.2637 846.7669,-72.4264 851.4893,-77.5935\"/>\n",
       "</g>\n",
       "</g>\n",
       "</svg>\n"
      ],
      "text/plain": [
       "<graphviz.files.Source at 0x7f95c6fd8358>"
      ]
     },
     "execution_count": 4,
     "metadata": {},
     "output_type": "execute_result"
    }
   ],
   "source": [
    "sklearn_tree = DecisionTreeClassifier(criterion='entropy', max_depth=3)\n",
    "sklearn_tree.fit(df_processed.drop('is_rain', axis=1), df_processed['is_rain'])\n",
    "from graphviz import Source\n",
    "Source(sklearn.tree.export_graphviz(sklearn_tree, class_names=['2', '4'],\n",
    "       out_file=None, feature_names=df_processed.columns[:-1]))\n"
   ]
  },
  {
   "cell_type": "markdown",
   "metadata": {},
   "source": [
    "## Tumour prediction"
   ]
  },
  {
   "cell_type": "code",
   "execution_count": 5,
   "metadata": {},
   "outputs": [],
   "source": [
    "col_names = '''2. Clump Thickness: 1 - 10 \n",
    "3. Uniformity of Cell Size: 1 - 10 \n",
    "4. Uniformity of Cell Shape: 1 - 10 \n",
    "5. Marginal Adhesion: 1 - 10 \n",
    "6. Single Epithelial Cell Size: 1 - 10 \n",
    "7. Bare Nuclei: 1 - 10 \n",
    "8. Bland Chromatin: 1 - 10 \n",
    "9. Normal Nucleoli: 1 - 10 \n",
    "10. Mitoses: 1 - 10 \n",
    "11. Class: (2 for benign, 4 for malignant)\n",
    "'''\n",
    "\n",
    "col_names = col_names.splitlines()\n",
    "pattern_name = re.compile('[a-zA-Z ]+')\n",
    "col_names = ['_'.join(pattern_name.search(c).group(0)[1:].lower().split(' ')) for c in col_names]"
   ]
  },
  {
   "cell_type": "code",
   "execution_count": 6,
   "metadata": {},
   "outputs": [
    {
     "name": "stdout",
     "output_type": "stream",
     "text": [
      "(683, 10)\n"
     ]
    },
    {
     "data": {
      "text/html": [
       "<div>\n",
       "<style scoped>\n",
       "    .dataframe tbody tr th:only-of-type {\n",
       "        vertical-align: middle;\n",
       "    }\n",
       "\n",
       "    .dataframe tbody tr th {\n",
       "        vertical-align: top;\n",
       "    }\n",
       "\n",
       "    .dataframe thead th {\n",
       "        text-align: right;\n",
       "    }\n",
       "</style>\n",
       "<table border=\"1\" class=\"dataframe\">\n",
       "  <thead>\n",
       "    <tr style=\"text-align: right;\">\n",
       "      <th></th>\n",
       "      <th>clump_thickness</th>\n",
       "      <th>uniformity_of_cell_size</th>\n",
       "      <th>uniformity_of_cell_shape</th>\n",
       "      <th>marginal_adhesion</th>\n",
       "      <th>single_epithelial_cell_size</th>\n",
       "      <th>bare_nuclei</th>\n",
       "      <th>bland_chromatin</th>\n",
       "      <th>normal_nucleoli</th>\n",
       "      <th>mitoses</th>\n",
       "      <th>class</th>\n",
       "    </tr>\n",
       "  </thead>\n",
       "  <tbody>\n",
       "    <tr>\n",
       "      <th>0</th>\n",
       "      <td>5</td>\n",
       "      <td>1</td>\n",
       "      <td>1</td>\n",
       "      <td>1</td>\n",
       "      <td>2</td>\n",
       "      <td>1</td>\n",
       "      <td>3</td>\n",
       "      <td>1</td>\n",
       "      <td>1</td>\n",
       "      <td>2</td>\n",
       "    </tr>\n",
       "    <tr>\n",
       "      <th>1</th>\n",
       "      <td>5</td>\n",
       "      <td>4</td>\n",
       "      <td>4</td>\n",
       "      <td>5</td>\n",
       "      <td>7</td>\n",
       "      <td>10</td>\n",
       "      <td>3</td>\n",
       "      <td>2</td>\n",
       "      <td>1</td>\n",
       "      <td>2</td>\n",
       "    </tr>\n",
       "    <tr>\n",
       "      <th>2</th>\n",
       "      <td>3</td>\n",
       "      <td>1</td>\n",
       "      <td>1</td>\n",
       "      <td>1</td>\n",
       "      <td>2</td>\n",
       "      <td>2</td>\n",
       "      <td>3</td>\n",
       "      <td>1</td>\n",
       "      <td>1</td>\n",
       "      <td>2</td>\n",
       "    </tr>\n",
       "    <tr>\n",
       "      <th>3</th>\n",
       "      <td>6</td>\n",
       "      <td>8</td>\n",
       "      <td>8</td>\n",
       "      <td>1</td>\n",
       "      <td>3</td>\n",
       "      <td>4</td>\n",
       "      <td>3</td>\n",
       "      <td>7</td>\n",
       "      <td>1</td>\n",
       "      <td>2</td>\n",
       "    </tr>\n",
       "    <tr>\n",
       "      <th>4</th>\n",
       "      <td>4</td>\n",
       "      <td>1</td>\n",
       "      <td>1</td>\n",
       "      <td>3</td>\n",
       "      <td>2</td>\n",
       "      <td>1</td>\n",
       "      <td>3</td>\n",
       "      <td>1</td>\n",
       "      <td>1</td>\n",
       "      <td>2</td>\n",
       "    </tr>\n",
       "  </tbody>\n",
       "</table>\n",
       "</div>"
      ],
      "text/plain": [
       "   clump_thickness  uniformity_of_cell_size  uniformity_of_cell_shape  \\\n",
       "0                5                        1                         1   \n",
       "1                5                        4                         4   \n",
       "2                3                        1                         1   \n",
       "3                6                        8                         8   \n",
       "4                4                        1                         1   \n",
       "\n",
       "   marginal_adhesion  single_epithelial_cell_size  bare_nuclei  \\\n",
       "0                  1                            2            1   \n",
       "1                  5                            7           10   \n",
       "2                  1                            2            2   \n",
       "3                  1                            3            4   \n",
       "4                  3                            2            1   \n",
       "\n",
       "   bland_chromatin  normal_nucleoli  mitoses  class  \n",
       "0                3                1        1      2  \n",
       "1                3                2        1      2  \n",
       "2                3                1        1      2  \n",
       "3                3                7        1      2  \n",
       "4                3                1        1      2  "
      ]
     },
     "execution_count": 6,
     "metadata": {},
     "output_type": "execute_result"
    }
   ],
   "source": [
    "path_data = Path('./data')\n",
    "df_cancer_raw = pd.read_csv(path_data/'hw2_question1.csv', names=col_names)\n",
    "print(df_cancer_raw.shape)\n",
    "df_cancer_raw.head()"
   ]
  },
  {
   "cell_type": "code",
   "execution_count": 7,
   "metadata": {},
   "outputs": [],
   "source": [
    "def group_split(df, col, pct=0.33, seed=1) -> namedtuple:\n",
    "    split_col = df[col]\n",
    "    split_unique = np.unique(split_col)\n",
    "    all_indices = np.arange(df.shape[0])\n",
    "    np.random.seed(seed)\n",
    "    indices = np.array([], dtype=np.int16)\n",
    "    for i in split_unique:\n",
    "        group_indices = all_indices[split_col == i]\n",
    "        selected_indices = np.random.choice(group_indices, round(group_indices.size*pct), replace=False)\n",
    "        indices = np.hstack([indices, selected_indices])\n",
    "        \n",
    "    df_test = df.iloc[indices]\n",
    "    df_train = df.loc[~np.isin(np.arange(df.shape[0]), indices)] #~np.isin(np.arange(df.shape[0]), indices)\n",
    "\n",
    "    split_dfs = namedtuple('split_dfs', 'train test test_indices')\n",
    "    return split_dfs(df_train, df_test, indices)\n",
    "\n",
    "def x_and_resp(df, resp_col):\n",
    "    X = df.drop(resp_col, axis=1)\n",
    "    y = df[resp_col]\n",
    "    return X, y\n",
    "\n",
    "class Cross_Validation():\n",
    "    \n",
    "    def __init__(self, folds=10, random_state=1):\n",
    "        self.folds = folds\n",
    "        self.fold_indices_created = False\n",
    "        self.random_state = random_state\n",
    "    \n",
    "    def create_fold_indices(self):\n",
    "        np.random.seed(self.random_state)\n",
    "        self.len = self.y.size\n",
    "        self.fold_sizes = [int(self.len/self.folds) for i in range(self.folds)]\n",
    "        self.fold_sizes[self.folds - 1] = self.len - (self.folds - 1) * self.fold_sizes[0]\n",
    "        self.indices = np.arange(self.y.size)\n",
    "        indices_tmp = np.arange(self.y.size)\n",
    "        fold_indices = []\n",
    "        for i in range(self.folds):\n",
    "            f_i = np.random.choice(indices_tmp, self.fold_sizes[i], replace=False)\n",
    "            fold_indices.append(f_i)\n",
    "            indices_tmp = indices_tmp[~np.isin(indices_tmp, f_i)]\n",
    "        self.fold_indices = fold_indices\n",
    "        self.fold_indices_created = True\n",
    "    \n",
    "    def evaluate_cv(self, X, y, model):\n",
    "        self.X = X\n",
    "        self.y = y\n",
    "        model_performace = []\n",
    "        if not self.fold_indices_created:\n",
    "            self.create_fold_indices()\n",
    "        for i,f_i in enumerate(self.fold_indices):\n",
    "            X_i = X.loc[~np.isin(np.arange(self.len), f_i)]\n",
    "            y_i = y.loc[~np.isin(np.arange(self.len), f_i)]\n",
    "            X_i_t = X.loc[np.isin(np.arange(self.len), f_i)]\n",
    "            y_i_t = y.loc[np.isin(np.arange(self.len), f_i)]\n",
    "            start = time.time()\n",
    "            model.fit(X_i, y_i)\n",
    "            model_performace.append({'accuracy':np.asscalar(model.score(X_i_t, y_i_t)), \n",
    "                                     'time':time.time()-start})\n",
    "        self.model_performace = model_performace\n",
    "        self._summarise_performace()\n",
    "        print(self.summarised_metrics)\n",
    "        return (self.model_performace, self.summarised_metrics)\n",
    "    \n",
    "    def _summarise_performace(self):\n",
    "        summarised_metrics = {}\n",
    "        for k in self.model_performace[0].keys():\n",
    "            p = 0\n",
    "            for fold in range(self.folds):\n",
    "                p += self.model_performace[fold][k]\n",
    "            summarised_metrics[k] = p/self.folds\n",
    "        self.summarised_metrics = summarised_metrics\n",
    "        \n",
    "    def cv_grid_search(self, X, y, param_dict_list, model_type):\n",
    "        order = param_dict_list.keys()\n",
    "        df_grid_search = pd.DataFrame(list(itertools.product(*[param_dict_list[k] for k in order])), \n",
    "                                      columns=order)\n",
    "        param_list = [dict(df_grid_search.iloc[i]) for i in range(df_grid_search.shape[0])]\n",
    "        grid_res = {}\n",
    "        grid_search_fold_results = {}\n",
    "        for param_set in param_list:\n",
    "            model = model_type(**param_set)\n",
    "            print(model)\n",
    "            eval_res = self.evaluate_cv(X, y, model)\n",
    "            grid_res[model] = eval_res[1] #.__repr__()\n",
    "            grid_search_fold_results[model.__repr__()] = eval_res[0]\n",
    "        self.grid_search_results = grid_res\n",
    "        self.grid_search_fold_results = grid_search_fold_results\n",
    "        return self.grid_search_results\n",
    "    \n",
    "    def get_cv_grid_best_model(self, X, y, param_dict_list, model_type, metric_to_opt=\"accuracy\", maximize=True):\n",
    "        self.cv_grid_search(X, y, param_dict_list, model_type)\n",
    "        z = zip([v[metric_to_opt] for k,v in self.grid_search_results.items()], \n",
    "                self.grid_search_results.keys())\n",
    "        if maximize:\n",
    "            metric = -float('Inf')\n",
    "            param = None\n",
    "            for v,k in z:\n",
    "                if v > metric:\n",
    "                    metric = v\n",
    "                    param = k\n",
    "        else:\n",
    "            metric = float('Inf')\n",
    "            param = None\n",
    "            for v,k in z:\n",
    "                if v < metric:\n",
    "                    metric = v\n",
    "                    param = k\n",
    "        result = collections.namedtuple(\"best_model_performance\", [\"model\", metric_to_opt, \"all_metrics\"])\n",
    "        self.best_model = result(param, metric, self.grid_search_results[param])\n",
    "        return self.best_model"
   ]
  },
  {
   "cell_type": "markdown",
   "metadata": {},
   "source": [
    "### Splitting the data"
   ]
  },
  {
   "cell_type": "code",
   "execution_count": 57,
   "metadata": {},
   "outputs": [
    {
     "data": {
      "text/plain": [
       "(457, 9)"
      ]
     },
     "execution_count": 57,
     "metadata": {},
     "output_type": "execute_result"
    }
   ],
   "source": [
    "df_tr, df_ts, _ = group_split(df_cancer_raw, 'class', seed=15)\n",
    "tr_X, tr_y = x_and_resp(df_tr, 'class')\n",
    "ts_X, ts_y = x_and_resp(df_ts, 'class')\n",
    "tr_X.shape"
   ]
  },
  {
   "cell_type": "code",
   "execution_count": 58,
   "metadata": {},
   "outputs": [
    {
     "name": "stdout",
     "output_type": "stream",
     "text": [
      "\n",
      "Class distribution overall\n",
      "2    444\n",
      "4    239\n",
      "Name: class, dtype: int64\n",
      "\n",
      "Class distribution training data\n",
      "2    0.649891\n",
      "4    0.350109\n",
      "Name: class, dtype: float64\n",
      "\n",
      "Class distribution test data\n",
      "2    0.650442\n",
      "4    0.349558\n",
      "Name: class, dtype: float64\n",
      "\n",
      "Split percent\n"
     ]
    },
    {
     "data": {
      "text/plain": [
       "(0.6691068814055637, 0.3308931185944363)"
      ]
     },
     "execution_count": 58,
     "metadata": {},
     "output_type": "execute_result"
    }
   ],
   "source": [
    "print('\\nClass distribution overall')\n",
    "print(tr_y.value_counts()+ts_y.value_counts())\n",
    "\n",
    "print('\\nClass distribution training data')\n",
    "print(tr_y.value_counts(normalize=True))\n",
    "\n",
    "print('\\nClass distribution test data')\n",
    "print(ts_y.value_counts(normalize=True))\n",
    "\n",
    "\n",
    "print('\\nSplit percent')\n",
    "tr_y.shape[0]/(tr_y.shape[0] + ts_y.shape[0]), ts_y.shape[0]/(tr_y.shape[0] + ts_y.shape[0])"
   ]
  },
  {
   "cell_type": "markdown",
   "metadata": {},
   "source": [
    "There are 444 observations of class 2 (benign) and 239 of class 4 (malignant). The classes are not evenly distributed. The classes make up about 65% and 35% respectively. As can be seen, after splitting the distribution is maintained. ALso, we can see that the split is 66% for training data and 33% for testing."
   ]
  },
  {
   "cell_type": "markdown",
   "metadata": {},
   "source": [
    "### Code for creating trees"
   ]
  },
  {
   "cell_type": "code",
   "execution_count": 59,
   "metadata": {},
   "outputs": [],
   "source": [
    "class TreeClassifier():\n",
    "    \n",
    "    def __init__(self, split_cond='entropy', split_as_numeric=True, min_entropy=0.0, max_depth=math.inf):\n",
    "        self.split_cond, self.split_as_numeric = split_cond, split_as_numeric\n",
    "        self.min_entropy, self.max_depth = min_entropy, max_depth\n",
    "        \n",
    "    def fit(self, X, y):\n",
    "        self.X, self.y = X.copy().reset_index(drop = True), y.copy().reset_index(drop = True)\n",
    "        self.splits = self.create_splits()\n",
    "        \n",
    "    def entropy(self, x: np.ndarray):\n",
    "        counts = np.unique(x, return_counts=True)[1]\n",
    "        probs = counts/counts.sum()\n",
    "        if self.split_cond == 'entropy':\n",
    "            return -np.dot(probs, np.log2(probs))\n",
    "        else:\n",
    "            return 1-((probs**2).sum())\n",
    "        \n",
    "    def create_splits(self, indices=None):\n",
    "        indices = np.arange(self.X.shape[0]) if indices is None else indices\n",
    "        \n",
    "        split_info = namedtuple('split_info', 'feature splitval cat nodes')\n",
    "        \n",
    "        cats, counts = np.unique(self.y.loc[indices].values, return_counts=True)\n",
    "        cat = np.asscalar(cats[counts == counts.max()][0])\n",
    "        \n",
    "        if self.entropy(self.y.loc[indices]) <= self.min_entropy:\n",
    "            return split_info(None, None, cat, [None, None])\n",
    "        else:\n",
    "            feature, split_value, best_entropy = self.get_best_split(indices)\n",
    "            left_indices = indices[self.X.loc[indices][feature] <= split_value]\n",
    "            right_indices = indices[self.X.loc[indices][feature] > split_value]\n",
    "            \n",
    "            l = self.create_splits(left_indices)\n",
    "            r = self.create_splits(right_indices)\n",
    "            \n",
    "            return split_info(feature, split_value, cat, [l, r])\n",
    "        \n",
    "    def get_best_split(self, current_indices):\n",
    "        entropies = self.calc_entropies_cols(current_indices)\n",
    "        best_entropy = math.inf\n",
    "        for c in sorted(self.X.columns, reverse=True):\n",
    "            splitpoint_entropies = entropies[c]\n",
    "            for s, e in splitpoint_entropies.items():\n",
    "                if e < best_entropy:\n",
    "                    best_entropy, feature, splitpoint = e, c, s\n",
    "#         print(feature, '<=', splitpoint) #, ':', best_entropy\n",
    "        return feature, splitpoint, best_entropy\n",
    "\n",
    "    def calc_entropies_cols(self, current_indices):\n",
    "        return {c:self.calc_entropies_col(c, current_indices) for c in self.X.columns}\n",
    "\n",
    "    def calc_entropies_col(self, split_colname, current_indices):\n",
    "        X = self.X.loc[current_indices]\n",
    "        split_col = X[split_colname]\n",
    "        levels, probs = self.get_split_points(split_col)\n",
    "        y = self.y.loc[current_indices]\n",
    "        \n",
    "        entropies = defaultdict(int)\n",
    "        for l, p in zip(levels, probs):\n",
    "            selected_level = split_col <= l if self.split_as_numeric else split_col == l\n",
    "            entropies[l] = p * self.entropy(y[selected_level]) + (1-p) * self.entropy(y[~selected_level]) \n",
    "        return entropies\n",
    "     \n",
    "    def get_split_points(self, split_col):\n",
    "        levels, counts = np.unique(split_col, return_counts=True)\n",
    "        probs = counts/counts.sum()\n",
    "        \n",
    "        if self.split_as_numeric:\n",
    "            new_levels = []\n",
    "            new_probs = []\n",
    "            for i in range(levels.size-1):\n",
    "                new_levels.append((levels[i] + levels[i+1])/2)\n",
    "                new_probs.append(probs[i] if len(new_probs) == 0 else new_probs[i-1]+probs[i])\n",
    "            return np.array(new_levels), np.array(new_probs)\n",
    "        else:\n",
    "            return levels, probs\n",
    "\n",
    "    def evaluate(self, ts_X, ts_y):\n",
    "        preds = self.predict(ts_X)\n",
    "        return (ts_y == preds).mean()            \n",
    "               \n",
    "    def predict(self, ts_X):\n",
    "        return ts_X.apply(self.predict_rec, axis=1)\n",
    "\n",
    "    def predict_rec(self, rec):\n",
    "        split = self.splits\n",
    "        current_depth = 0\n",
    "        while (getattr(split, 'nodes') != [None, None]) and (current_depth <= self.max_depth):\n",
    "            f, v, c, ns = split\n",
    "            split = ns[0] if rec[f]<=v else ns[1]\n",
    "            current_depth += 1\n",
    "        return getattr(split, 'cat')"
   ]
  },
  {
   "cell_type": "code",
   "execution_count": 68,
   "metadata": {},
   "outputs": [
    {
     "data": {
      "text/plain": [
       "0.9601769911504425"
      ]
     },
     "execution_count": 68,
     "metadata": {},
     "output_type": "execute_result"
    }
   ],
   "source": [
    "my_tree = TreeClassifier(split_cond='gini')\n",
    "my_tree.fit(tr_X, tr_y)\n",
    "my_tree.evaluate(ts_X, ts_y)"
   ]
  },
  {
   "cell_type": "code",
   "execution_count": 69,
   "metadata": {},
   "outputs": [
    {
     "data": {
      "text/plain": [
       "0.9469026548672567"
      ]
     },
     "execution_count": 69,
     "metadata": {},
     "output_type": "execute_result"
    }
   ],
   "source": [
    "my_tree = TreeClassifier(split_cond='entropy')\n",
    "my_tree.fit(tr_X, tr_y)\n",
    "my_tree.evaluate(ts_X, ts_y)"
   ]
  },
  {
   "cell_type": "markdown",
   "metadata": {},
   "source": [
    "#### Verification with scikit learn"
   ]
  },
  {
   "cell_type": "code",
   "execution_count": 62,
   "metadata": {},
   "outputs": [
    {
     "name": "stdout",
     "output_type": "stream",
     "text": [
      "0.9601769911504425\n"
     ]
    }
   ],
   "source": [
    "tr_X_cp = tr_X.copy()\n",
    "sklearn_tree = DecisionTreeClassifier(criterion='gini')\n",
    "sklearn_tree.fit(tr_X_cp, tr_y)\n",
    "print(sklearn_tree.score(ts_X, ts_y))"
   ]
  },
  {
   "cell_type": "code",
   "execution_count": 63,
   "metadata": {},
   "outputs": [
    {
     "name": "stdout",
     "output_type": "stream",
     "text": [
      "0.9469026548672567\n"
     ]
    }
   ],
   "source": [
    "tr_X_cp = tr_X.copy()\n",
    "sklearn_tree = DecisionTreeClassifier(criterion='entropy')\n",
    "sklearn_tree.fit(tr_X_cp, tr_y)\n",
    "print(sklearn_tree.score(ts_X, ts_y))"
   ]
  },
  {
   "cell_type": "markdown",
   "metadata": {},
   "source": [
    "#### My tree"
   ]
  },
  {
   "cell_type": "code",
   "execution_count": 64,
   "metadata": {},
   "outputs": [
    {
     "data": {
      "text/plain": [
       "split_info(feature='uniformity_of_cell_size', splitval=2.5, cat=2, nodes=[split_info(feature='normal_nucleoli', splitval=3.5, cat=2, nodes=[split_info(feature='clump_thickness', splitval=6.5, cat=2, nodes=[split_info(feature=None, splitval=None, cat=2, nodes=[None, None]), split_info(feature='bare_nuclei', splitval=2.0, cat=4, nodes=[split_info(feature=None, splitval=None, cat=2, nodes=[None, None]), split_info(feature=None, splitval=None, cat=4, nodes=[None, None])])]), split_info(feature='uniformity_of_cell_shape', splitval=1.5, cat=4, nodes=[split_info(feature=None, splitval=None, cat=2, nodes=[None, None]), split_info(feature=None, splitval=None, cat=4, nodes=[None, None])])]), split_info(feature='uniformity_of_cell_size', splitval=4.5, cat=4, nodes=[split_info(feature='bare_nuclei', splitval=2.5, cat=4, nodes=[split_info(feature='normal_nucleoli', splitval=8.5, cat=2, nodes=[split_info(feature='marginal_adhesion', splitval=6.5, cat=2, nodes=[split_info(feature=None, splitval=None, cat=2, nodes=[None, None]), split_info(feature=None, splitval=None, cat=4, nodes=[None, None])]), split_info(feature=None, splitval=None, cat=4, nodes=[None, None])]), split_info(feature='marginal_adhesion', splitval=5.5, cat=4, nodes=[split_info(feature='marginal_adhesion', splitval=1.5, cat=4, nodes=[split_info(feature=None, splitval=None, cat=4, nodes=[None, None]), split_info(feature='uniformity_of_cell_shape', splitval=4.5, cat=4, nodes=[split_info(feature='marginal_adhesion', splitval=4.5, cat=2, nodes=[split_info(feature='bare_nuclei', splitval=7.5, cat=2, nodes=[split_info(feature='uniformity_of_cell_shape', splitval=3.5, cat=2, nodes=[split_info(feature=None, splitval=None, cat=4, nodes=[None, None]), split_info(feature=None, splitval=None, cat=2, nodes=[None, None])]), split_info(feature=None, splitval=None, cat=4, nodes=[None, None])]), split_info(feature=None, splitval=None, cat=2, nodes=[None, None])]), split_info(feature='single_epithelial_cell_size', splitval=6.5, cat=4, nodes=[split_info(feature=None, splitval=None, cat=4, nodes=[None, None]), split_info(feature=None, splitval=None, cat=2, nodes=[None, None])])])]), split_info(feature=None, splitval=None, cat=4, nodes=[None, None])])]), split_info(feature='bland_chromatin', splitval=4.5, cat=4, nodes=[split_info(feature='clump_thickness', splitval=6.5, cat=4, nodes=[split_info(feature='uniformity_of_cell_shape', splitval=6.5, cat=4, nodes=[split_info(feature=None, splitval=None, cat=4, nodes=[None, None]), split_info(feature='uniformity_of_cell_shape', splitval=9.0, cat=2, nodes=[split_info(feature='normal_nucleoli', splitval=7.5, cat=2, nodes=[split_info(feature=None, splitval=None, cat=2, nodes=[None, None]), split_info(feature=None, splitval=None, cat=4, nodes=[None, None])]), split_info(feature=None, splitval=None, cat=4, nodes=[None, None])])]), split_info(feature=None, splitval=None, cat=4, nodes=[None, None])]), split_info(feature=None, splitval=None, cat=4, nodes=[None, None])])])])"
      ]
     },
     "execution_count": 64,
     "metadata": {},
     "output_type": "execute_result"
    }
   ],
   "source": [
    "my_tree.splits"
   ]
  },
  {
   "cell_type": "markdown",
   "metadata": {},
   "source": [
    "### Accuracies at different depths"
   ]
  },
  {
   "cell_type": "code",
   "execution_count": 65,
   "metadata": {},
   "outputs": [],
   "source": [
    "def get_accuracies_at_depths(model, depths = range(1, 11)):\n",
    "    training_acc = []\n",
    "    testing_acc = []\n",
    "    model.fit(tr_X, tr_y)\n",
    "    for d in depths:\n",
    "        model.max_depth = d\n",
    "        training_acc.append(model.evaluate(tr_X, tr_y))\n",
    "        testing_acc.append(model.evaluate(ts_X, ts_y))\n",
    "#         ans[d]  = [model.evaluate(tr_X, tr_y), model.evaluate(ts_X, ts_y)]\n",
    "    return pd.DataFrame({'depth':depths, 'training':training_acc, 'testing':testing_acc})\n",
    "\n",
    "df_accs_entr = get_accuracies_at_depths(TreeClassifier(split_cond='entropy')).assign(split_cond='entropy')\n",
    "df_accs_gini = get_accuracies_at_depths(TreeClassifier(split_cond='gini')).assign(split_cond='gini')"
   ]
  },
  {
   "cell_type": "code",
   "execution_count": 66,
   "metadata": {},
   "outputs": [],
   "source": [
    "df_accs = (pd.concat([df_accs_entr, df_accs_gini])\n",
    "           .reset_index()\n",
    "           .melt(id_vars=['depth', 'split_cond'], \n",
    "                 var_name='data')\n",
    "           .query('data!=\"index\"'))"
   ]
  },
  {
   "cell_type": "code",
   "execution_count": 67,
   "metadata": {},
   "outputs": [
    {
     "data": {
      "image/png": "[encoded data removed]",
      "text/plain": [
       "<Figure size 640x480 with 2 Axes>"
      ]
     },
     "metadata": {},
     "output_type": "display_data"
    },
    {
     "data": {
      "text/plain": [
       "<ggplot: (-9223363280391520403)>"
      ]
     },
     "execution_count": 67,
     "metadata": {},
     "output_type": "execute_result"
    }
   ],
   "source": [
    "(ggplot(aes('depth', 'value', color='data'), data=df_accs) +\n",
    " geom_line() +\n",
    " facet_wrap('~split_cond') +\n",
    " scale_x_continuous(breaks=range(11)) +\n",
    " scale_y_continuous(limits=[0.85, 1],\n",
    "                    breaks=np.linspace(0.85, 1, 15).round(3),\n",
    "                    labels=lambda l: [\"%d%%\" % (v * 100) for v in l]) +\n",
    " labs(y='accuracy') +\n",
    " theme_light() +\n",
    " theme(\n",
    "     panel_grid_minor=element_blank(),\n",
    "     panel_grid_major_x=element_blank())\n",
    " )"
   ]
  },
  {
   "cell_type": "markdown",
   "metadata": {},
   "source": [
    "As we expected the training accuracy increases as the depth increases. However, as the tree begins to overfit, the testing accuracy drops. Both the spitting criteria reflect this trend as evident from the similar plots. We don't see any practical differences between them. "
   ]
  },
  {
   "cell_type": "markdown",
   "metadata": {},
   "source": [
    "## Bonus: Prepruning"
   ]
  },
  {
   "cell_type": "code",
   "execution_count": 70,
   "metadata": {},
   "outputs": [
    {
     "data": {
      "text/plain": [
       "0.9513274336283186"
      ]
     },
     "execution_count": 70,
     "metadata": {},
     "output_type": "execute_result"
    }
   ],
   "source": [
    "my_tree = TreeClassifier(split_cond='entropy', min_entropy=0.2)\n",
    "my_tree.fit(tr_X, tr_y)\n",
    "my_tree.evaluate(ts_X, ts_y)"
   ]
  },
  {
   "cell_type": "markdown",
   "metadata": {},
   "source": [
    "By adding the `min_entropy` argument we can achieve pre-pruning. Internally, the implemented algorithm stops splitting a node when the mentioned entropy is achieved. "
   ]
  },
  {
   "cell_type": "markdown",
   "metadata": {},
   "source": [
    "# SVM"
   ]
  },
  {
   "cell_type": "markdown",
   "metadata": {},
   "source": [
    "## Preprocessing"
   ]
  },
  {
   "cell_type": "code",
   "execution_count": 8,
   "metadata": {},
   "outputs": [
    {
     "data": {
      "text/html": [
       "<div>\n",
       "<style scoped>\n",
       "    .dataframe tbody tr th:only-of-type {\n",
       "        vertical-align: middle;\n",
       "    }\n",
       "\n",
       "    .dataframe tbody tr th {\n",
       "        vertical-align: top;\n",
       "    }\n",
       "\n",
       "    .dataframe thead th {\n",
       "        text-align: right;\n",
       "    }\n",
       "</style>\n",
       "<table border=\"1\" class=\"dataframe\">\n",
       "  <thead>\n",
       "    <tr style=\"text-align: right;\">\n",
       "      <th></th>\n",
       "      <th>0</th>\n",
       "      <th>1</th>\n",
       "      <th>2</th>\n",
       "      <th>3</th>\n",
       "      <th>4</th>\n",
       "      <th>5</th>\n",
       "      <th>6</th>\n",
       "      <th>7</th>\n",
       "      <th>8</th>\n",
       "      <th>9</th>\n",
       "      <th>...</th>\n",
       "      <th>21</th>\n",
       "      <th>22</th>\n",
       "      <th>23</th>\n",
       "      <th>24</th>\n",
       "      <th>25</th>\n",
       "      <th>26</th>\n",
       "      <th>27</th>\n",
       "      <th>28</th>\n",
       "      <th>29</th>\n",
       "      <th>30</th>\n",
       "    </tr>\n",
       "  </thead>\n",
       "  <tbody>\n",
       "    <tr>\n",
       "      <th>0</th>\n",
       "      <td>-1</td>\n",
       "      <td>1</td>\n",
       "      <td>1</td>\n",
       "      <td>1</td>\n",
       "      <td>-1</td>\n",
       "      <td>-1</td>\n",
       "      <td>-1</td>\n",
       "      <td>-1</td>\n",
       "      <td>-1</td>\n",
       "      <td>1</td>\n",
       "      <td>...</td>\n",
       "      <td>1</td>\n",
       "      <td>1</td>\n",
       "      <td>-1</td>\n",
       "      <td>-1</td>\n",
       "      <td>-1</td>\n",
       "      <td>-1</td>\n",
       "      <td>1</td>\n",
       "      <td>1</td>\n",
       "      <td>-1</td>\n",
       "      <td>-1</td>\n",
       "    </tr>\n",
       "    <tr>\n",
       "      <th>1</th>\n",
       "      <td>1</td>\n",
       "      <td>1</td>\n",
       "      <td>1</td>\n",
       "      <td>1</td>\n",
       "      <td>1</td>\n",
       "      <td>-1</td>\n",
       "      <td>0</td>\n",
       "      <td>1</td>\n",
       "      <td>-1</td>\n",
       "      <td>1</td>\n",
       "      <td>...</td>\n",
       "      <td>1</td>\n",
       "      <td>1</td>\n",
       "      <td>-1</td>\n",
       "      <td>-1</td>\n",
       "      <td>0</td>\n",
       "      <td>-1</td>\n",
       "      <td>1</td>\n",
       "      <td>1</td>\n",
       "      <td>1</td>\n",
       "      <td>-1</td>\n",
       "    </tr>\n",
       "    <tr>\n",
       "      <th>2</th>\n",
       "      <td>1</td>\n",
       "      <td>0</td>\n",
       "      <td>1</td>\n",
       "      <td>1</td>\n",
       "      <td>1</td>\n",
       "      <td>-1</td>\n",
       "      <td>-1</td>\n",
       "      <td>-1</td>\n",
       "      <td>-1</td>\n",
       "      <td>1</td>\n",
       "      <td>...</td>\n",
       "      <td>1</td>\n",
       "      <td>1</td>\n",
       "      <td>1</td>\n",
       "      <td>-1</td>\n",
       "      <td>1</td>\n",
       "      <td>-1</td>\n",
       "      <td>1</td>\n",
       "      <td>0</td>\n",
       "      <td>-1</td>\n",
       "      <td>-1</td>\n",
       "    </tr>\n",
       "    <tr>\n",
       "      <th>3</th>\n",
       "      <td>1</td>\n",
       "      <td>0</td>\n",
       "      <td>1</td>\n",
       "      <td>1</td>\n",
       "      <td>1</td>\n",
       "      <td>-1</td>\n",
       "      <td>-1</td>\n",
       "      <td>-1</td>\n",
       "      <td>1</td>\n",
       "      <td>1</td>\n",
       "      <td>...</td>\n",
       "      <td>1</td>\n",
       "      <td>1</td>\n",
       "      <td>-1</td>\n",
       "      <td>-1</td>\n",
       "      <td>1</td>\n",
       "      <td>-1</td>\n",
       "      <td>1</td>\n",
       "      <td>-1</td>\n",
       "      <td>1</td>\n",
       "      <td>-1</td>\n",
       "    </tr>\n",
       "    <tr>\n",
       "      <th>4</th>\n",
       "      <td>1</td>\n",
       "      <td>0</td>\n",
       "      <td>-1</td>\n",
       "      <td>1</td>\n",
       "      <td>1</td>\n",
       "      <td>-1</td>\n",
       "      <td>1</td>\n",
       "      <td>1</td>\n",
       "      <td>-1</td>\n",
       "      <td>1</td>\n",
       "      <td>...</td>\n",
       "      <td>-1</td>\n",
       "      <td>1</td>\n",
       "      <td>-1</td>\n",
       "      <td>-1</td>\n",
       "      <td>0</td>\n",
       "      <td>-1</td>\n",
       "      <td>1</td>\n",
       "      <td>1</td>\n",
       "      <td>1</td>\n",
       "      <td>1</td>\n",
       "    </tr>\n",
       "  </tbody>\n",
       "</table>\n",
       "<p>5 rows × 31 columns</p>\n",
       "</div>"
      ],
      "text/plain": [
       "   0   1   2   3   4   5   6   7   8   9   ...  21  22  23  24  25  26  27  \\\n",
       "0  -1   1   1   1  -1  -1  -1  -1  -1   1  ...   1   1  -1  -1  -1  -1   1   \n",
       "1   1   1   1   1   1  -1   0   1  -1   1  ...   1   1  -1  -1   0  -1   1   \n",
       "2   1   0   1   1   1  -1  -1  -1  -1   1  ...   1   1   1  -1   1  -1   1   \n",
       "3   1   0   1   1   1  -1  -1  -1   1   1  ...   1   1  -1  -1   1  -1   1   \n",
       "4   1   0  -1   1   1  -1   1   1  -1   1  ...  -1   1  -1  -1   0  -1   1   \n",
       "\n",
       "   28  29  30  \n",
       "0   1  -1  -1  \n",
       "1   1   1  -1  \n",
       "2   0  -1  -1  \n",
       "3  -1   1  -1  \n",
       "4   1   1   1  \n",
       "\n",
       "[5 rows x 31 columns]"
      ]
     },
     "execution_count": 8,
     "metadata": {},
     "output_type": "execute_result"
    }
   ],
   "source": [
    "df_phishing = pd.read_csv(path_data/'hw2_question3.csv', header=None)\n",
    "df_phishing.head()"
   ]
  },
  {
   "cell_type": "markdown",
   "metadata": {},
   "source": [
    "### One hot encoding"
   ]
  },
  {
   "cell_type": "code",
   "execution_count": 9,
   "metadata": {},
   "outputs": [
    {
     "data": {
      "text/html": [
       "<div>\n",
       "<style scoped>\n",
       "    .dataframe tbody tr th:only-of-type {\n",
       "        vertical-align: middle;\n",
       "    }\n",
       "\n",
       "    .dataframe tbody tr th {\n",
       "        vertical-align: top;\n",
       "    }\n",
       "\n",
       "    .dataframe thead th {\n",
       "        text-align: right;\n",
       "    }\n",
       "</style>\n",
       "<table border=\"1\" class=\"dataframe\">\n",
       "  <thead>\n",
       "    <tr style=\"text-align: right;\">\n",
       "      <th></th>\n",
       "      <th>0</th>\n",
       "      <th>2</th>\n",
       "      <th>3</th>\n",
       "      <th>4</th>\n",
       "      <th>5</th>\n",
       "      <th>8</th>\n",
       "      <th>9</th>\n",
       "      <th>10</th>\n",
       "      <th>11</th>\n",
       "      <th>12</th>\n",
       "      <th>...</th>\n",
       "      <th>15_-1</th>\n",
       "      <th>15_0</th>\n",
       "      <th>15_1</th>\n",
       "      <th>25_-1</th>\n",
       "      <th>25_0</th>\n",
       "      <th>25_1</th>\n",
       "      <th>28_-1</th>\n",
       "      <th>28_0</th>\n",
       "      <th>28_1</th>\n",
       "      <th>30</th>\n",
       "    </tr>\n",
       "  </thead>\n",
       "  <tbody>\n",
       "    <tr>\n",
       "      <th>0</th>\n",
       "      <td>-1</td>\n",
       "      <td>1</td>\n",
       "      <td>1</td>\n",
       "      <td>-1</td>\n",
       "      <td>-1</td>\n",
       "      <td>-1</td>\n",
       "      <td>1</td>\n",
       "      <td>1</td>\n",
       "      <td>-1</td>\n",
       "      <td>1</td>\n",
       "      <td>...</td>\n",
       "      <td>1</td>\n",
       "      <td>0</td>\n",
       "      <td>0</td>\n",
       "      <td>1</td>\n",
       "      <td>0</td>\n",
       "      <td>0</td>\n",
       "      <td>0</td>\n",
       "      <td>0</td>\n",
       "      <td>1</td>\n",
       "      <td>-1</td>\n",
       "    </tr>\n",
       "    <tr>\n",
       "      <th>1</th>\n",
       "      <td>1</td>\n",
       "      <td>1</td>\n",
       "      <td>1</td>\n",
       "      <td>1</td>\n",
       "      <td>-1</td>\n",
       "      <td>-1</td>\n",
       "      <td>1</td>\n",
       "      <td>1</td>\n",
       "      <td>-1</td>\n",
       "      <td>1</td>\n",
       "      <td>...</td>\n",
       "      <td>1</td>\n",
       "      <td>0</td>\n",
       "      <td>0</td>\n",
       "      <td>0</td>\n",
       "      <td>1</td>\n",
       "      <td>0</td>\n",
       "      <td>0</td>\n",
       "      <td>0</td>\n",
       "      <td>1</td>\n",
       "      <td>-1</td>\n",
       "    </tr>\n",
       "    <tr>\n",
       "      <th>2</th>\n",
       "      <td>1</td>\n",
       "      <td>1</td>\n",
       "      <td>1</td>\n",
       "      <td>1</td>\n",
       "      <td>-1</td>\n",
       "      <td>-1</td>\n",
       "      <td>1</td>\n",
       "      <td>1</td>\n",
       "      <td>-1</td>\n",
       "      <td>1</td>\n",
       "      <td>...</td>\n",
       "      <td>1</td>\n",
       "      <td>0</td>\n",
       "      <td>0</td>\n",
       "      <td>0</td>\n",
       "      <td>0</td>\n",
       "      <td>1</td>\n",
       "      <td>0</td>\n",
       "      <td>1</td>\n",
       "      <td>0</td>\n",
       "      <td>-1</td>\n",
       "    </tr>\n",
       "    <tr>\n",
       "      <th>3</th>\n",
       "      <td>1</td>\n",
       "      <td>1</td>\n",
       "      <td>1</td>\n",
       "      <td>1</td>\n",
       "      <td>-1</td>\n",
       "      <td>1</td>\n",
       "      <td>1</td>\n",
       "      <td>1</td>\n",
       "      <td>-1</td>\n",
       "      <td>-1</td>\n",
       "      <td>...</td>\n",
       "      <td>1</td>\n",
       "      <td>0</td>\n",
       "      <td>0</td>\n",
       "      <td>0</td>\n",
       "      <td>0</td>\n",
       "      <td>1</td>\n",
       "      <td>1</td>\n",
       "      <td>0</td>\n",
       "      <td>0</td>\n",
       "      <td>-1</td>\n",
       "    </tr>\n",
       "    <tr>\n",
       "      <th>4</th>\n",
       "      <td>1</td>\n",
       "      <td>-1</td>\n",
       "      <td>1</td>\n",
       "      <td>1</td>\n",
       "      <td>-1</td>\n",
       "      <td>-1</td>\n",
       "      <td>1</td>\n",
       "      <td>1</td>\n",
       "      <td>1</td>\n",
       "      <td>1</td>\n",
       "      <td>...</td>\n",
       "      <td>1</td>\n",
       "      <td>0</td>\n",
       "      <td>0</td>\n",
       "      <td>0</td>\n",
       "      <td>1</td>\n",
       "      <td>0</td>\n",
       "      <td>0</td>\n",
       "      <td>0</td>\n",
       "      <td>1</td>\n",
       "      <td>1</td>\n",
       "    </tr>\n",
       "  </tbody>\n",
       "</table>\n",
       "<p>5 rows × 47 columns</p>\n",
       "</div>"
      ],
      "text/plain": [
       "   0  2  3  4  5  8  9  10  11  12  ...  15_-1  15_0  15_1  25_-1  25_0  25_1  \\\n",
       "0 -1  1  1 -1 -1 -1  1   1  -1   1  ...      1     0     0      1     0     0   \n",
       "1  1  1  1  1 -1 -1  1   1  -1   1  ...      1     0     0      0     1     0   \n",
       "2  1  1  1  1 -1 -1  1   1  -1   1  ...      1     0     0      0     0     1   \n",
       "3  1  1  1  1 -1  1  1   1  -1  -1  ...      1     0     0      0     0     1   \n",
       "4  1 -1  1  1 -1 -1  1   1   1   1  ...      1     0     0      0     1     0   \n",
       "\n",
       "   28_-1  28_0  28_1  30  \n",
       "0      0     0     1  -1  \n",
       "1      0     0     1  -1  \n",
       "2      0     1     0  -1  \n",
       "3      1     0     0  -1  \n",
       "4      0     0     1   1  \n",
       "\n",
       "[5 rows x 47 columns]"
      ]
     },
     "execution_count": 9,
     "metadata": {},
     "output_type": "execute_result"
    }
   ],
   "source": [
    "ohc = np.array([df_phishing[c].value_counts().shape[0] for c in df_phishing.columns]) > 2\n",
    "ohc = np.array(df_phishing.columns)[ohc]\n",
    "\n",
    "df_phishing = pd.get_dummies(df_phishing, columns=ohc)\n",
    "df_phishing['30'] = df_phishing[30]\n",
    "df_phishing = df_phishing.drop(30, axis=1)\n",
    "df_phishing.head()"
   ]
  },
  {
   "cell_type": "markdown",
   "metadata": {},
   "source": [
    "### Splitting into training and test sets"
   ]
  },
  {
   "cell_type": "code",
   "execution_count": 10,
   "metadata": {},
   "outputs": [
    {
     "data": {
      "text/plain": [
       "((7407, 46), (3648, 46))"
      ]
     },
     "execution_count": 10,
     "metadata": {},
     "output_type": "execute_result"
    }
   ],
   "source": [
    "df_tr, df_ts, _ = group_split(df_phishing, '30')\n",
    "tr_X, tr_y = x_and_resp(df_tr, '30')\n",
    "ts_X, ts_y = x_and_resp(df_ts, '30')\n",
    "tr_X.shape, ts_X.shape"
   ]
  },
  {
   "cell_type": "markdown",
   "metadata": {},
   "source": [
    "## Linear SVM"
   ]
  },
  {
   "cell_type": "code",
   "execution_count": 75,
   "metadata": {
    "scrolled": true
   },
   "outputs": [
    {
     "name": "stdout",
     "output_type": "stream",
     "text": [
      "SVC(C=1e-05, cache_size=200, class_weight=None, coef0=0.0,\n",
      "  decision_function_shape='ovr', degree=3, gamma='auto_deprecated',\n",
      "  kernel='linear', max_iter=-1, probability=False, random_state=None,\n",
      "  shrinking=True, tol=0.001, verbose=False)\n",
      "{'accuracy': 0.5569056298096395, 'time': 2.2572360038757324}\n",
      "SVC(C=0.0001, cache_size=200, class_weight=None, coef0=0.0,\n",
      "  decision_function_shape='ovr', degree=3, gamma='auto_deprecated',\n",
      "  kernel='linear', max_iter=-1, probability=False, random_state=None,\n",
      "  shrinking=True, tol=0.001, verbose=False)\n",
      "{'accuracy': 0.6327798028891589, 'time': 2.2831369241078696}\n",
      "SVC(C=0.001, cache_size=200, class_weight=None, coef0=0.0,\n",
      "  decision_function_shape='ovr', degree=3, gamma='auto_deprecated',\n",
      "  kernel='linear', max_iter=-1, probability=False, random_state=None,\n",
      "  shrinking=True, tol=0.001, verbose=False)\n",
      "{'accuracy': 0.9195355744565951, 'time': 1.1656754811604817}\n",
      "SVC(C=0.01, cache_size=200, class_weight=None, coef0=0.0,\n",
      "  decision_function_shape='ovr', degree=3, gamma='auto_deprecated',\n",
      "  kernel='linear', max_iter=-1, probability=False, random_state=None,\n",
      "  shrinking=True, tol=0.001, verbose=False)\n",
      "{'accuracy': 0.9315512353179426, 'time': 0.5838600794474283}\n",
      "SVC(C=0.1, cache_size=200, class_weight=None, coef0=0.0,\n",
      "  decision_function_shape='ovr', degree=3, gamma='auto_deprecated',\n",
      "  kernel='linear', max_iter=-1, probability=False, random_state=None,\n",
      "  shrinking=True, tol=0.001, verbose=False)\n",
      "{'accuracy': 0.9357364655056027, 'time': 0.4383004506429036}\n",
      "SVC(C=3.0, cache_size=200, class_weight=None, coef0=0.0,\n",
      "  decision_function_shape='ovr', degree=3, gamma='auto_deprecated',\n",
      "  kernel='linear', max_iter=-1, probability=False, random_state=None,\n",
      "  shrinking=True, tol=0.001, verbose=False)\n",
      "{'accuracy': 0.9372215471850952, 'time': 0.7717468738555908}\n",
      "SVC(C=5.0, cache_size=200, class_weight=None, coef0=0.0,\n",
      "  decision_function_shape='ovr', degree=3, gamma='auto_deprecated',\n",
      "  kernel='linear', max_iter=-1, probability=False, random_state=None,\n",
      "  shrinking=True, tol=0.001, verbose=False)\n",
      "{'accuracy': 0.9372215471850951, 'time': 1.0505383014678955}\n",
      "SVC(C=10.0, cache_size=200, class_weight=None, coef0=0.0,\n",
      "  decision_function_shape='ovr', degree=3, gamma='auto_deprecated',\n",
      "  kernel='linear', max_iter=-1, probability=False, random_state=None,\n",
      "  shrinking=True, tol=0.001, verbose=False)\n",
      "{'accuracy': 0.9373565546105036, 'time': 1.5236984888712566}\n",
      "SVC(C=100.0, cache_size=200, class_weight=None, coef0=0.0,\n",
      "  decision_function_shape='ovr', degree=3, gamma='auto_deprecated',\n",
      "  kernel='linear', max_iter=-1, probability=False, random_state=None,\n",
      "  shrinking=True, tol=0.001, verbose=False)\n",
      "{'accuracy': 0.9373565546105036, 'time': 8.123536904652914}\n"
     ]
    },
    {
     "data": {
      "text/plain": [
       "best_model_performance(model=SVC(C=10.0, cache_size=200, class_weight=None, coef0=0.0,\n",
       "  decision_function_shape='ovr', degree=3, gamma='auto_deprecated',\n",
       "  kernel='linear', max_iter=-1, probability=False, random_state=None,\n",
       "  shrinking=True, tol=0.001, verbose=False), accuracy=0.9373565546105036, all_metrics={'accuracy': 0.9373565546105036, 'time': 1.5236984888712566})"
      ]
     },
     "execution_count": 75,
     "metadata": {},
     "output_type": "execute_result"
    }
   ],
   "source": [
    "param_dict_list = {\n",
    "    'kernel': ['linear'],\n",
    "    'C' : [1e-5, 1e-4, 1e-3, 1e-2, 1e-1, 3, 5, 10, 100]\n",
    "}\n",
    "cv = Cross_Validation(folds=3)\n",
    "cv.get_cv_grid_best_model(tr_X, tr_y, param_dict_list, SVC)"
   ]
  },
  {
   "cell_type": "markdown",
   "metadata": {},
   "source": [
    "As we can see, the best performance (accuracy=93.74%) is at C=10 for a support vector machine with a linear kernel."
   ]
  },
  {
   "cell_type": "code",
   "execution_count": 77,
   "metadata": {},
   "outputs": [
    {
     "data": {
      "text/html": [
       "<div>\n",
       "<style scoped>\n",
       "    .dataframe tbody tr th:only-of-type {\n",
       "        vertical-align: middle;\n",
       "    }\n",
       "\n",
       "    .dataframe tbody tr th {\n",
       "        vertical-align: top;\n",
       "    }\n",
       "\n",
       "    .dataframe thead th {\n",
       "        text-align: right;\n",
       "    }\n",
       "</style>\n",
       "<table border=\"1\" class=\"dataframe\">\n",
       "  <thead>\n",
       "    <tr style=\"text-align: right;\">\n",
       "      <th></th>\n",
       "      <th>C</th>\n",
       "      <th>accuracy</th>\n",
       "      <th>time</th>\n",
       "    </tr>\n",
       "  </thead>\n",
       "  <tbody>\n",
       "    <tr>\n",
       "      <th>0</th>\n",
       "      <td>0.00001</td>\n",
       "      <td>0.556906</td>\n",
       "      <td>2.257236</td>\n",
       "    </tr>\n",
       "    <tr>\n",
       "      <th>1</th>\n",
       "      <td>0.00010</td>\n",
       "      <td>0.632780</td>\n",
       "      <td>2.283137</td>\n",
       "    </tr>\n",
       "    <tr>\n",
       "      <th>2</th>\n",
       "      <td>0.00100</td>\n",
       "      <td>0.919536</td>\n",
       "      <td>1.165675</td>\n",
       "    </tr>\n",
       "    <tr>\n",
       "      <th>3</th>\n",
       "      <td>0.01000</td>\n",
       "      <td>0.931551</td>\n",
       "      <td>0.583860</td>\n",
       "    </tr>\n",
       "    <tr>\n",
       "      <th>4</th>\n",
       "      <td>0.10000</td>\n",
       "      <td>0.935736</td>\n",
       "      <td>0.438300</td>\n",
       "    </tr>\n",
       "    <tr>\n",
       "      <th>5</th>\n",
       "      <td>3.00000</td>\n",
       "      <td>0.937222</td>\n",
       "      <td>0.771747</td>\n",
       "    </tr>\n",
       "    <tr>\n",
       "      <th>6</th>\n",
       "      <td>5.00000</td>\n",
       "      <td>0.937222</td>\n",
       "      <td>1.050538</td>\n",
       "    </tr>\n",
       "    <tr>\n",
       "      <th>7</th>\n",
       "      <td>10.00000</td>\n",
       "      <td>0.937357</td>\n",
       "      <td>1.523698</td>\n",
       "    </tr>\n",
       "    <tr>\n",
       "      <th>8</th>\n",
       "      <td>100.00000</td>\n",
       "      <td>0.937357</td>\n",
       "      <td>8.123537</td>\n",
       "    </tr>\n",
       "  </tbody>\n",
       "</table>\n",
       "</div>"
      ],
      "text/plain": [
       "           C  accuracy      time\n",
       "0    0.00001  0.556906  2.257236\n",
       "1    0.00010  0.632780  2.283137\n",
       "2    0.00100  0.919536  1.165675\n",
       "3    0.01000  0.931551  0.583860\n",
       "4    0.10000  0.935736  0.438300\n",
       "5    3.00000  0.937222  0.771747\n",
       "6    5.00000  0.937222  1.050538\n",
       "7   10.00000  0.937357  1.523698\n",
       "8  100.00000  0.937357  8.123537"
      ]
     },
     "execution_count": 77,
     "metadata": {},
     "output_type": "execute_result"
    }
   ],
   "source": [
    "df_res = pd.DataFrame(sum(cv.grid_search_fold_results.values(), []))\n",
    "df_res['C'] = np.array(sorted([1e-5, 1e-4, 1e-3, 1e-2, 1e-1, 3, 5, 10, 100]*3))\n",
    "df_res = df_res.groupby('C').aggregate('mean').reset_index()\n",
    "df_res"
   ]
  },
  {
   "cell_type": "code",
   "execution_count": 78,
   "metadata": {},
   "outputs": [
    {
     "data": {
      "image/png": "[encoded data removed]",
      "text/plain": [
       "<Figure size 640x480 with 1 Axes>"
      ]
     },
     "metadata": {},
     "output_type": "display_data"
    },
    {
     "data": {
      "text/plain": [
       "<ggplot: (-9223363302212902200)>"
      ]
     },
     "execution_count": 78,
     "metadata": {},
     "output_type": "execute_result"
    }
   ],
   "source": [
    "ggplot(aes('np.log(C)', 'time'), data=df_res) + geom_line()"
   ]
  },
  {
   "cell_type": "markdown",
   "metadata": {},
   "source": [
    "Training time is 2.25 seconds for C almost 0 and dips as we increase C (around C=0.1). If we keep increasing C the training time increases rapidly."
   ]
  },
  {
   "cell_type": "code",
   "execution_count": 74,
   "metadata": {},
   "outputs": [
    {
     "data": {
      "text/plain": [
       "0.9385964912280702"
      ]
     },
     "execution_count": 74,
     "metadata": {},
     "output_type": "execute_result"
    }
   ],
   "source": [
    "model_svm = SVC(kernel='linear', C=10)\n",
    "model_svm.fit(tr_X, tr_y)\n",
    "model_svm.score(ts_X, ts_y)"
   ]
  },
  {
   "cell_type": "markdown",
   "metadata": {},
   "source": [
    "We get an accuracy of 93.8% on the test set."
   ]
  },
  {
   "cell_type": "markdown",
   "metadata": {},
   "source": [
    "## Other kernels"
   ]
  },
  {
   "cell_type": "code",
   "execution_count": 11,
   "metadata": {},
   "outputs": [
    {
     "name": "stdout",
     "output_type": "stream",
     "text": [
      "SVC(C=0.01, cache_size=200, class_weight=None, coef0=0.0,\n",
      "  decision_function_shape='ovr', degree=2, gamma=0.1, kernel='poly',\n",
      "  max_iter=-1, probability=False, random_state=None, shrinking=True,\n",
      "  tol=0.001, verbose=False)\n",
      "{'accuracy': 0.933036316997435, 'time': 0.8245840867360433}\n",
      "SVC(C=0.01, cache_size=200, class_weight=None, coef0=0.0,\n",
      "  decision_function_shape='ovr', degree=2, gamma=1.0, kernel='poly',\n",
      "  max_iter=-1, probability=False, random_state=None, shrinking=True,\n",
      "  tol=0.001, verbose=False)\n",
      "{'accuracy': 0.9551775347644119, 'time': 0.3938165505727132}\n",
      "SVC(C=0.01, cache_size=200, class_weight=None, coef0=0.0,\n",
      "  decision_function_shape='ovr', degree=3, gamma=0.1, kernel='poly',\n",
      "  max_iter=-1, probability=False, random_state=None, shrinking=True,\n",
      "  tol=0.001, verbose=False)\n",
      "{'accuracy': 0.9450519778587823, 'time': 0.6458400885264078}\n",
      "SVC(C=0.01, cache_size=200, class_weight=None, coef0=0.0,\n",
      "  decision_function_shape='ovr', degree=3, gamma=1.0, kernel='poly',\n",
      "  max_iter=-1, probability=False, random_state=None, shrinking=True,\n",
      "  tol=0.001, verbose=False)\n",
      "{'accuracy': 0.9474821115161335, 'time': 0.4848811626434326}\n",
      "SVC(C=0.1, cache_size=200, class_weight=None, coef0=0.0,\n",
      "  decision_function_shape='ovr', degree=2, gamma=0.1, kernel='poly',\n",
      "  max_iter=-1, probability=False, random_state=None, shrinking=True,\n",
      "  tol=0.001, verbose=False)\n",
      "{'accuracy': 0.9469420818144997, 'time': 0.46413763364156085}\n",
      "SVC(C=0.1, cache_size=200, class_weight=None, coef0=0.0,\n",
      "  decision_function_shape='ovr', degree=2, gamma=1.0, kernel='poly',\n",
      "  max_iter=-1, probability=False, random_state=None, shrinking=True,\n",
      "  tol=0.001, verbose=False)\n",
      "{'accuracy': 0.9553125421898204, 'time': 0.500683863957723}\n",
      "SVC(C=0.1, cache_size=200, class_weight=None, coef0=0.0,\n",
      "  decision_function_shape='ovr', degree=3, gamma=0.1, kernel='poly',\n",
      "  max_iter=-1, probability=False, random_state=None, shrinking=True,\n",
      "  tol=0.001, verbose=False)\n",
      "{'accuracy': 0.9585527203996219, 'time': 0.43656452496846515}\n",
      "SVC(C=0.1, cache_size=200, class_weight=None, coef0=0.0,\n",
      "  decision_function_shape='ovr', degree=3, gamma=1.0, kernel='poly',\n",
      "  max_iter=-1, probability=False, random_state=None, shrinking=True,\n",
      "  tol=0.001, verbose=False)\n",
      "{'accuracy': 0.9469420818144999, 'time': 0.5376922289530436}\n",
      "SVC(C=1.0, cache_size=200, class_weight=None, coef0=0.0,\n",
      "  decision_function_shape='ovr', degree=2, gamma=0.1, kernel='poly',\n",
      "  max_iter=-1, probability=False, random_state=None, shrinking=True,\n",
      "  tol=0.001, verbose=False)\n",
      "{'accuracy': 0.9551775347644119, 'time': 0.37217171986897785}\n",
      "SVC(C=1.0, cache_size=200, class_weight=None, coef0=0.0,\n",
      "  decision_function_shape='ovr', degree=2, gamma=1.0, kernel='poly',\n",
      "  max_iter=-1, probability=False, random_state=None, shrinking=True,\n",
      "  tol=0.001, verbose=False)\n",
      "{'accuracy': 0.9441069258809235, 'time': 1.2658641338348389}\n",
      "SVC(C=1.0, cache_size=200, class_weight=None, coef0=0.0,\n",
      "  decision_function_shape='ovr', degree=3, gamma=0.1, kernel='poly',\n",
      "  max_iter=-1, probability=False, random_state=None, shrinking=True,\n",
      "  tol=0.001, verbose=False)\n",
      "{'accuracy': 0.957202646145538, 'time': 0.37670691808064777}\n",
      "SVC(C=1.0, cache_size=200, class_weight=None, coef0=0.0,\n",
      "  decision_function_shape='ovr', degree=3, gamma=1.0, kernel='poly',\n",
      "  max_iter=-1, probability=False, random_state=None, shrinking=True,\n",
      "  tol=0.001, verbose=False)\n",
      "{'accuracy': 0.9469420818144999, 'time': 0.49126553535461426}\n"
     ]
    },
    {
     "data": {
      "text/plain": [
       "best_model_performance(model=SVC(C=0.1, cache_size=200, class_weight=None, coef0=0.0,\n",
       "  decision_function_shape='ovr', degree=3, gamma=0.1, kernel='poly',\n",
       "  max_iter=-1, probability=False, random_state=None, shrinking=True,\n",
       "  tol=0.001, verbose=False), accuracy=0.9585527203996219, all_metrics={'accuracy': 0.9585527203996219, 'time': 0.43656452496846515})"
      ]
     },
     "execution_count": 11,
     "metadata": {},
     "output_type": "execute_result"
    }
   ],
   "source": [
    "param_grid = {\n",
    "    'kernel': ['poly'],\n",
    "    'C': [0.01, 0.1, 1],\n",
    "    'degree': [2, 3],\n",
    "    'gamma': [0.1,1] \n",
    "}\n",
    "\n",
    "cv = Cross_Validation(folds=3, random_state=18)\n",
    "cv.get_cv_grid_best_model(tr_X, tr_y, param_grid, SVC)"
   ]
  },
  {
   "cell_type": "code",
   "execution_count": 12,
   "metadata": {},
   "outputs": [
    {
     "name": "stdout",
     "output_type": "stream",
     "text": [
      "SVC(C=0.001, cache_size=200, class_weight=None, coef0=0.0,\n",
      "  decision_function_shape='ovr', degree=3, gamma=0.1, kernel='rbf',\n",
      "  max_iter=-1, probability=False, random_state=None, shrinking=True,\n",
      "  tol=0.001, verbose=False)\n",
      "{'accuracy': 0.5569056298096395, 'time': 2.8312714099884033}\n",
      "SVC(C=0.001, cache_size=200, class_weight=None, coef0=0.0,\n",
      "  decision_function_shape='ovr', degree=3, gamma=1.0, kernel='rbf',\n",
      "  max_iter=-1, probability=False, random_state=None, shrinking=True,\n",
      "  tol=0.001, verbose=False)\n",
      "{'accuracy': 0.5569056298096395, 'time': 2.7952276865641275}\n",
      "SVC(C=0.001, cache_size=200, class_weight=None, coef0=0.0,\n",
      "  decision_function_shape='ovr', degree=3, gamma=10.0, kernel='rbf',\n",
      "  max_iter=-1, probability=False, random_state=None, shrinking=True,\n",
      "  tol=0.001, verbose=False)\n",
      "{'accuracy': 0.5569056298096395, 'time': 2.722092866897583}\n",
      "SVC(C=0.1, cache_size=200, class_weight=None, coef0=0.0,\n",
      "  decision_function_shape='ovr', degree=3, gamma=0.1, kernel='rbf',\n",
      "  max_iter=-1, probability=False, random_state=None, shrinking=True,\n",
      "  tol=0.001, verbose=False)\n",
      "{'accuracy': 0.9399216956932631, 'time': 1.6095598538716633}\n",
      "SVC(C=0.1, cache_size=200, class_weight=None, coef0=0.0,\n",
      "  decision_function_shape='ovr', degree=3, gamma=1.0, kernel='rbf',\n",
      "  max_iter=-1, probability=False, random_state=None, shrinking=True,\n",
      "  tol=0.001, verbose=False)\n",
      "{'accuracy': 0.5569056298096395, 'time': 2.840637683868408}\n",
      "SVC(C=0.1, cache_size=200, class_weight=None, coef0=0.0,\n",
      "  decision_function_shape='ovr', degree=3, gamma=10.0, kernel='rbf',\n",
      "  max_iter=-1, probability=False, random_state=None, shrinking=True,\n",
      "  tol=0.001, verbose=False)\n",
      "{'accuracy': 0.5569056298096395, 'time': 3.012845436731974}\n",
      "SVC(C=10.0, cache_size=200, class_weight=None, coef0=0.0,\n",
      "  decision_function_shape='ovr', degree=3, gamma=0.1, kernel='rbf',\n",
      "  max_iter=-1, probability=False, random_state=None, shrinking=True,\n",
      "  tol=0.001, verbose=False)\n",
      "{'accuracy': 0.9613878763331983, 'time': 0.8580586115519205}\n",
      "SVC(C=10.0, cache_size=200, class_weight=None, coef0=0.0,\n",
      "  decision_function_shape='ovr', degree=3, gamma=1.0, kernel='rbf',\n",
      "  max_iter=-1, probability=False, random_state=None, shrinking=True,\n",
      "  tol=0.001, verbose=False)\n",
      "{'accuracy': 0.8582422033211827, 'time': 2.2119438648223877}\n",
      "SVC(C=10.0, cache_size=200, class_weight=None, coef0=0.0,\n",
      "  decision_function_shape='ovr', degree=3, gamma=10.0, kernel='rbf',\n",
      "  max_iter=-1, probability=False, random_state=None, shrinking=True,\n",
      "  tol=0.001, verbose=False)\n",
      "{'accuracy': 0.729310112056163, 'time': 2.30841859181722}\n",
      "SVC(C=1000.0, cache_size=200, class_weight=None, coef0=0.0,\n",
      "  decision_function_shape='ovr', degree=3, gamma=0.1, kernel='rbf',\n",
      "  max_iter=-1, probability=False, random_state=None, shrinking=True,\n",
      "  tol=0.001, verbose=False)\n",
      "{'accuracy': 0.959227757526664, 'time': 0.839292844136556}\n",
      "SVC(C=1000.0, cache_size=200, class_weight=None, coef0=0.0,\n",
      "  decision_function_shape='ovr', degree=3, gamma=1.0, kernel='rbf',\n",
      "  max_iter=-1, probability=False, random_state=None, shrinking=True,\n",
      "  tol=0.001, verbose=False)\n",
      "{'accuracy': 0.8582422033211827, 'time': 2.1822757720947266}\n",
      "SVC(C=1000.0, cache_size=200, class_weight=None, coef0=0.0,\n",
      "  decision_function_shape='ovr', degree=3, gamma=10.0, kernel='rbf',\n",
      "  max_iter=-1, probability=False, random_state=None, shrinking=True,\n",
      "  tol=0.001, verbose=False)\n",
      "{'accuracy': 0.729310112056163, 'time': 2.315242131551107}\n"
     ]
    },
    {
     "data": {
      "text/plain": [
       "best_model_performance(model=SVC(C=10.0, cache_size=200, class_weight=None, coef0=0.0,\n",
       "  decision_function_shape='ovr', degree=3, gamma=0.1, kernel='rbf',\n",
       "  max_iter=-1, probability=False, random_state=None, shrinking=True,\n",
       "  tol=0.001, verbose=False), accuracy=0.9613878763331983, all_metrics={'accuracy': 0.9613878763331983, 'time': 0.8580586115519205})"
      ]
     },
     "execution_count": 12,
     "metadata": {},
     "output_type": "execute_result"
    }
   ],
   "source": [
    "param_grid = {\n",
    "    'kernel': ['rbf'],\n",
    "    'C': np.logspace(-3, 3, 4).tolist(),\n",
    "    'gamma': [0.1, 1, 10] \n",
    "}\n",
    "\n",
    "cv.get_cv_grid_best_model(tr_X, tr_y, param_grid, SVC)\n",
    "\n",
    "\n",
    "# cv_svm = GridSearchCV(SVC(), param_grid, n_jobs=-1, cv=3)\n",
    "# cv_svm.fit(tr_X, tr_y)\n",
    "# print(cv_svm.best_params_, cv_svm.best_score_)\n",
    "# print(cv_svm.score(ts_X, ts_y))"
   ]
  },
  {
   "cell_type": "markdown",
   "metadata": {},
   "source": [
    "The 'rbf' (radial basis function/gaussian) kernel is the most effective. It achieves an accuracy of 96.13% at C=10 and gamma=0.1. "
   ]
  },
  {
   "cell_type": "code",
   "execution_count": 13,
   "metadata": {},
   "outputs": [
    {
     "data": {
      "text/plain": [
       "0.9684758771929824"
      ]
     },
     "execution_count": 13,
     "metadata": {},
     "output_type": "execute_result"
    }
   ],
   "source": [
    "model = SVC(C=10, cache_size=200, class_weight=None, coef0=0.0,\n",
    "  decision_function_shape='ovr', gamma=0.1, kernel='rbf',\n",
    "  max_iter=-1, probability=False, random_state=None, shrinking=True,\n",
    "  tol=0.001, verbose=False)\n",
    "model.fit(tr_X, tr_y)\n",
    "model.score(ts_X, ts_y)"
   ]
  },
  {
   "cell_type": "markdown",
   "metadata": {},
   "source": [
    "## Bonus"
   ]
  },
  {
   "cell_type": "code",
   "execution_count": 217,
   "metadata": {},
   "outputs": [],
   "source": [
    "class SVM_LINEAR():\n",
    "    \n",
    "    def __init__(self, C=1):\n",
    "        self.C = C\n",
    "    \n",
    "    def fit(self, X, y):\n",
    "        self.X, self.y = X.copy().values, y.copy().values\n",
    "        self.solve_alpha()\n",
    "        self.get_weights_from_alpha()\n",
    "    \n",
    "    @property\n",
    "    def N(self):\n",
    "        return self.X.shape[0]\n",
    "    \n",
    "    def predict(self, ts_X):\n",
    "        preds = ((self.w.dot(ts_X.T) + self.w0)>0)*1\n",
    "        preds[preds == 0] = -1\n",
    "        return preds\n",
    "    \n",
    "    def evaluate(self, ts_X, ts_y):\n",
    "        return (self.predict(ts_X) == ts_y).mean()\n",
    "    \n",
    "    def get_weights_from_alpha(self):\n",
    "        s = np.vstack([np.array(self.alpha[i] * self.X[i] * self.y[i]) for i in range(self.N)])\n",
    "#         print(s.shape)\n",
    "        self.w = s.sum(axis=0)\n",
    "        self.w0 = (self.y - self.w.dot(self.X.T)).mean()\n",
    "        \n",
    "    def dual_objective(self, model):\n",
    "        term_1 = []\n",
    "        term_2 = []\n",
    "        for i in range(self.N):\n",
    "            for j in range(self.N):\n",
    "                XtX = self.X[i].dot(self.X[j])\n",
    "                YnYm = self.y[i]* self.y[j]\n",
    "                AnAm = model.alpha[i]*model.alpha[j]\n",
    "                term_1.append(XtX * YnYm * AnAm)\n",
    "#                 print(XtX * YnYm * AnAm)\n",
    "            term_2.append(model.alpha[i])  \n",
    "        obj = ((-1/2)*sum(term_1)) + sum(term_2)\n",
    "        return obj\n",
    "    \n",
    "    def cons_rule(self, model):\n",
    "        cons_lhs = []\n",
    "        for i in range(self.N):\n",
    "            a = model.alpha[i]\n",
    "            y = self.y[i]\n",
    "            cons_lhs.append(a*y)\n",
    "        cons_lhs = sum(cons_lhs)\n",
    "        return (cons_lhs == 0)  \n",
    "             \n",
    "    def solve_alpha(self):\n",
    "        model = ConcreteModel()\n",
    "        model.alpha = Var(range(self.N), bounds=(0, self.C), within=NonNegativeReals)\n",
    "        model.constraint = Constraint(rule=self.cons_rule)\n",
    "        model.objective = Objective(rule=self.dual_objective, sense=maximize)\n",
    "        solver = SolverFactory('ipopt')\n",
    "        status = solver.solve(model)\n",
    "        self.opt = model\n",
    "        self.alpha = np.array([model.alpha[i].value for i in range(self.N)])\n"
   ]
  },
  {
   "cell_type": "code",
   "execution_count": 218,
   "metadata": {},
   "outputs": [
    {
     "data": {
      "text/plain": [
       "0.8678728070175439"
      ]
     },
     "execution_count": 218,
     "metadata": {},
     "output_type": "execute_result"
    }
   ],
   "source": [
    "N = 1000 \n",
    "model_svm_mine = SVM_LINEAR()\n",
    "model_svm_mine.fit(tr_X[:N], tr_y[:N])   \n",
    "p = model_svm_mine.predict(tr_X)\n",
    "model_svm_mine.evaluate(ts_X, ts_y)"
   ]
  },
  {
   "cell_type": "markdown",
   "metadata": {},
   "source": [
    "### Verifying with scikit"
   ]
  },
  {
   "cell_type": "code",
   "execution_count": 219,
   "metadata": {},
   "outputs": [
    {
     "data": {
      "text/plain": [
       "0.8643092105263158"
      ]
     },
     "execution_count": 219,
     "metadata": {},
     "output_type": "execute_result"
    }
   ],
   "source": [
    "model_svm = SVC(kernel='linear', gamma='auto')\n",
    "model_svm.fit(tr_X[:N], tr_y[:N])\n",
    "model_svm.score(ts_X, ts_y)"
   ]
  },
  {
   "cell_type": "markdown",
   "metadata": {},
   "source": [
    "As we can see the performance when we train with the first 1000 values is more or less similar. For bigger training sets, my SVM model begins to freeze. "
   ]
  }
 ],
 "metadata": {
  "kernelspec": {
   "display_name": "Python 3",
   "language": "python",
   "name": "python3"
  },
  "language_info": {
   "codemirror_mode": {
    "name": "ipython",
    "version": 3
   },
   "file_extension": ".py",
   "mimetype": "text/x-python",
   "name": "python",
   "nbconvert_exporter": "python",
   "pygments_lexer": "ipython3",
   "version": "3.6.8"
  },
  "toc": {
   "base_numbering": 1,
   "nav_menu": {},
   "number_sections": true,
   "sideBar": true,
   "skip_h1_title": false,
   "title_cell": "Table of Contents",
   "title_sidebar": "Contents",
   "toc_cell": false,
   "toc_position": {},
   "toc_section_display": true,
   "toc_window_display": false
  },
  "varInspector": {
   "cols": {
    "lenName": 16,
    "lenType": 16,
    "lenVar": 40
   },
   "kernels_config": {
    "python": {
     "delete_cmd_postfix": "",
     "delete_cmd_prefix": "del ",
     "library": "var_list.py",
     "varRefreshCmd": "print(var_dic_list())"
    },
    "r": {
     "delete_cmd_postfix": ") ",
     "delete_cmd_prefix": "rm(",
     "library": "var_list.r",
     "varRefreshCmd": "cat(var_dic_list()) "
    }
   },
   "types_to_exclude": [
    "module",
    "function",
    "builtin_function_or_method",
    "instance",
    "_Feature"
   ],
   "window_display": false
  }
 },
 "nbformat": 4,
 "nbformat_minor": 2
}
