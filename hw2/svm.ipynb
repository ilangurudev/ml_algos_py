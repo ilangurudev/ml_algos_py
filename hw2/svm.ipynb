{
 "cells": [
  {
   "cell_type": "code",
   "execution_count": 1,
   "metadata": {},
   "outputs": [],
   "source": [
    "import pandas as pd\n",
    "import numpy as np\n",
    "import scipy\n",
    "from plotnine import *\n",
    "\n",
    "import sklearn\n",
    "from sklearn.tree import DecisionTreeClassifier, tree\n",
    "from sklearn.svm import SVC\n",
    "from sklearn.preprocessing import OneHotEncoder\n",
    "from sklearn.metrics import classification_report\n",
    "from sklearn.model_selection import GridSearchCV, cross_val_score, train_test_split\n",
    "\n",
    "from pyomo.core import *\n",
    "from pyomo.environ import *\n",
    "\n",
    "import math\n",
    "from pathlib import Path\n",
    "from functools import partial, reduce\n",
    "from typing import Union\n",
    "import os\n",
    "import shutil\n",
    "from collections import Counter, namedtuple, defaultdict\n",
    "import re"
   ]
  },
  {
   "cell_type": "code",
   "execution_count": 2,
   "metadata": {},
   "outputs": [],
   "source": [
    "def group_split(df, col, pct=0.33) -> namedtuple:\n",
    "    split_col = df[col]\n",
    "    split_unique = np.unique(split_col)\n",
    "    all_indices = np.arange(df.shape[0])\n",
    "    \n",
    "    indices = np.array([], dtype=np.int16)\n",
    "    for i in split_unique:\n",
    "        group_indices = all_indices[split_col == i]\n",
    "        selected_indices = np.random.choice(group_indices, round(group_indices.size*pct), replace=False)\n",
    "        indices = np.hstack([indices, selected_indices])\n",
    "        \n",
    "    df_test = df.iloc[indices]\n",
    "    df_train = df.loc[~np.isin(np.arange(df.shape[0]), indices)] #~np.isin(np.arange(df.shape[0]), indices)\n",
    "\n",
    "    split_dfs = namedtuple('split_dfs', 'train test test_indices')\n",
    "    return split_dfs(df_train, df_test, indices)\n",
    "\n",
    "def x_and_resp(df, resp_col):\n",
    "    X = df.drop(resp_col, axis=1)\n",
    "    y = df[resp_col]\n",
    "    return X, y\n",
    "\n",
    "path_data = Path('./data')"
   ]
  },
  {
   "cell_type": "code",
   "execution_count": 3,
   "metadata": {},
   "outputs": [
    {
     "data": {
      "text/plain": [
       "((7407, 68), (3648, 68))"
      ]
     },
     "execution_count": 3,
     "metadata": {},
     "output_type": "execute_result"
    }
   ],
   "source": [
    "df_phishing = pd.read_csv(path_data/'hw2_question3.csv', header=None)\n",
    "df_phishing.head()\n",
    "\n",
    "df_phishing = pd.get_dummies(df_phishing, columns=df_phishing.columns.values[:-1])\n",
    "df_phishing['30'] = df_phishing[30]\n",
    "df_phishing = df_phishing.drop(30, axis=1)\n",
    "df_phishing.head()\n",
    "\n",
    "df_tr, df_ts, _ = group_split(df_phishing, '30')\n",
    "tr_X, tr_y = x_and_resp(df_tr, '30')\n",
    "ts_X, ts_y = x_and_resp(df_ts, '30')\n",
    "tr_X.shape, ts_X.shape"
   ]
  },
  {
   "cell_type": "code",
   "execution_count": 4,
   "metadata": {},
   "outputs": [
    {
     "data": {
      "text/plain": [
       "0.8675986842105263"
      ]
     },
     "execution_count": 4,
     "metadata": {},
     "output_type": "execute_result"
    }
   ],
   "source": [
    "N = 1000 # tr_X.shape[0]\n",
    "model_svm = SVC(kernel='linear', gamma='auto')\n",
    "model_svm.fit(tr_X[:N], tr_y[:N])\n",
    "model_svm.score(ts_X, ts_y)"
   ]
  },
  {
   "cell_type": "code",
   "execution_count": 10,
   "metadata": {},
   "outputs": [
    {
     "data": {
      "text/plain": [
       "((169, 68), (1, 68), array([0.22402126]))"
      ]
     },
     "execution_count": 10,
     "metadata": {},
     "output_type": "execute_result"
    }
   ],
   "source": [
    "model_svm.support_vectors_.shape, model_svm.coef_.shape, model_svm.intercept_"
   ]
  },
  {
   "cell_type": "code",
   "execution_count": 7,
   "metadata": {},
   "outputs": [],
   "source": [
    "class SVM_LINEAR():\n",
    "    \n",
    "    def __init__(self, C=1):\n",
    "        self.C = C\n",
    "    \n",
    "    def fit(self, X, y):\n",
    "        self.X, self.y = X.copy().values, y.copy().values\n",
    "        self.solve_alpha()\n",
    "        self.get_weights_from_alpha()\n",
    "    \n",
    "    @property\n",
    "    def N(self):\n",
    "        return self.X.shape[0]\n",
    "    \n",
    "    def predict(self, ts_X):\n",
    "        preds = ((self.w.dot(ts_X.T) + self.w0)>0)*1\n",
    "        preds[preds == 0] = -1\n",
    "        return preds\n",
    "    \n",
    "    def evaluate(self, ts_X, ts_y):\n",
    "        return (self.predict(ts_X) == ts_y).mean()\n",
    "    \n",
    "    def get_weights_from_alpha(self):\n",
    "        s = np.vstack([np.array(self.alpha[i] * self.X[i] * self.y[i]) for i in range(self.N)])\n",
    "#         print(s.shape)\n",
    "        self.w = s.sum(axis=0)\n",
    "        self.w0 = (self.y - self.w.dot(self.X.T)).mean()\n",
    "        \n",
    "    def dual_objective(self, model):\n",
    "        term_1 = []\n",
    "        term_2 = []\n",
    "        for i in range(self.N):\n",
    "            for j in range(self.N):\n",
    "                XtX = self.X[i].dot(self.X[j])\n",
    "                YnYm = self.y[i]* self.y[j]\n",
    "                AnAm = model.alpha[i]*model.alpha[j]\n",
    "                term_1.append(XtX * YnYm * AnAm)\n",
    "#                 print(XtX * YnYm * AnAm)\n",
    "            term_2.append(model.alpha[i])  \n",
    "        obj = ((-1/2)*sum(term_1)) + sum(term_2)\n",
    "        return obj\n",
    "    \n",
    "    def cons_rule(self, model):\n",
    "        cons_lhs = []\n",
    "        for i in range(self.N):\n",
    "            a = model.alpha[i]\n",
    "            y = self.y[i]\n",
    "            cons_lhs.append(a*y)\n",
    "        cons_lhs = sum(cons_lhs)\n",
    "        return (cons_lhs == 0)  \n",
    "             \n",
    "    def solve_alpha(self):\n",
    "        model = ConcreteModel()\n",
    "        model.alpha = Var(range(self.N), bounds=(0, self.C), within=NonNegativeReals)\n",
    "        model.constraint = Constraint(rule=self.cons_rule)\n",
    "        model.objective = Objective(rule=self.dual_objective, sense=maximize)\n",
    "        solver = SolverFactory('ipopt')\n",
    "        status = solver.solve(model)\n",
    "        self.opt = model\n",
    "        self.alpha = np.array([model.alpha[i].value for i in range(self.N)])\n",
    "        \n",
    "model_svm_mine = SVM_LINEAR()\n",
    "model_svm_mine.fit(tr_X[:N], tr_y[:N])   "
   ]
  },
  {
   "cell_type": "code",
   "execution_count": 13,
   "metadata": {},
   "outputs": [
    {
     "data": {
      "text/plain": [
       "0.868421052631579"
      ]
     },
     "execution_count": 13,
     "metadata": {},
     "output_type": "execute_result"
    }
   ],
   "source": [
    "p = model_svm_mine.predict(tr_X)\n",
    "model_svm_mine.evaluate(ts_X, ts_y)"
   ]
  },
  {
   "cell_type": "code",
   "execution_count": 14,
   "metadata": {},
   "outputs": [
    {
     "data": {
      "text/plain": [
       "0.0010002572885511824"
      ]
     },
     "execution_count": 14,
     "metadata": {},
     "output_type": "execute_result"
    }
   ],
   "source": [
    "model_svm_mine.w0"
   ]
  },
  {
   "cell_type": "code",
   "execution_count": 269,
   "metadata": {},
   "outputs": [
    {
     "data": {
      "text/plain": [
       "38"
      ]
     },
     "execution_count": 269,
     "metadata": {},
     "output_type": "execute_result"
    }
   ],
   "source": [
    "(model_svm_mine.alpha > 0).sum()"
   ]
  }
 ],
 "metadata": {
  "kernelspec": {
   "display_name": "Python 3",
   "language": "python",
   "name": "python3"
  },
  "language_info": {
   "codemirror_mode": {
    "name": "ipython",
    "version": 3
   },
   "file_extension": ".py",
   "mimetype": "text/x-python",
   "name": "python",
   "nbconvert_exporter": "python",
   "pygments_lexer": "ipython3",
   "version": "3.6.8"
  },
  "toc": {
   "base_numbering": 1,
   "nav_menu": {},
   "number_sections": true,
   "sideBar": true,
   "skip_h1_title": false,
   "title_cell": "Table of Contents",
   "title_sidebar": "Contents",
   "toc_cell": false,
   "toc_position": {},
   "toc_section_display": true,
   "toc_window_display": false
  },
  "varInspector": {
   "cols": {
    "lenName": 16,
    "lenType": 16,
    "lenVar": 40
   },
   "kernels_config": {
    "python": {
     "delete_cmd_postfix": "",
     "delete_cmd_prefix": "del ",
     "library": "var_list.py",
     "varRefreshCmd": "print(var_dic_list())"
    },
    "r": {
     "delete_cmd_postfix": ") ",
     "delete_cmd_prefix": "rm(",
     "library": "var_list.r",
     "varRefreshCmd": "cat(var_dic_list()) "
    }
   },
   "types_to_exclude": [
    "module",
    "function",
    "builtin_function_or_method",
    "instance",
    "_Feature"
   ],
   "window_display": false
  }
 },
 "nbformat": 4,
 "nbformat_minor": 2
}
